{
 "cells": [
  {
   "cell_type": "code",
   "execution_count": 3,
   "metadata": {},
   "outputs": [],
   "source": [
    "import psutil"
   ]
  },
  {
   "cell_type": "code",
   "execution_count": 4,
   "metadata": {},
   "outputs": [
    {
     "data": {
      "text/plain": [
       "[scputimes(user=1.1, nice=13.2, system=3.5, idle=81.7, iowait=0.3, irq=0.0, softirq=0.1, steal=0.0, guest=0.0, guest_nice=0.0),\n",
       " scputimes(user=3.1, nice=14.4, system=2.9, idle=79.5, iowait=0.1, irq=0.0, softirq=0.1, steal=0.0, guest=0.0, guest_nice=0.0),\n",
       " scputimes(user=1.8, nice=11.2, system=3.3, idle=82.5, iowait=0.8, irq=0.0, softirq=0.3, steal=0.0, guest=0.0, guest_nice=0.0),\n",
       " scputimes(user=1.8, nice=11.1, system=2.9, idle=81.3, iowait=0.1, irq=0.0, softirq=2.7, steal=0.0, guest=0.0, guest_nice=0.0)]"
      ]
     },
     "execution_count": 4,
     "metadata": {},
     "output_type": "execute_result"
    }
   ],
   "source": [
    "psutil.cpu_times_percent(interval=10, percpu=True)"
   ]
  },
  {
   "cell_type": "code",
   "execution_count": 5,
   "metadata": {},
   "outputs": [
    {
     "data": {
      "text/plain": [
       "[22.0, 21.0, 16.3, 20.6]"
      ]
     },
     "execution_count": 5,
     "metadata": {},
     "output_type": "execute_result"
    }
   ],
   "source": [
    "psutil.cpu_percent(interval=10, percpu=True)"
   ]
  },
  {
   "cell_type": "code",
   "execution_count": 6,
   "metadata": {},
   "outputs": [
    {
     "data": {
      "text/plain": [
       "4"
      ]
     },
     "execution_count": 6,
     "metadata": {},
     "output_type": "execute_result"
    }
   ],
   "source": [
    "psutil.cpu_count(logical=True)"
   ]
  },
  {
   "cell_type": "code",
   "execution_count": 7,
   "metadata": {},
   "outputs": [
    {
     "data": {
      "text/plain": [
       "2"
      ]
     },
     "execution_count": 7,
     "metadata": {},
     "output_type": "execute_result"
    }
   ],
   "source": [
    "psutil.cpu_count(logical=False)"
   ]
  },
  {
   "cell_type": "code",
   "execution_count": 8,
   "metadata": {},
   "outputs": [
    {
     "data": {
      "text/plain": [
       "(1.349609375, 0.92724609375, 0.54345703125)"
      ]
     },
     "execution_count": 8,
     "metadata": {},
     "output_type": "execute_result"
    }
   ],
   "source": [
    "psutil.getloadavg()"
   ]
  },
  {
   "cell_type": "code",
   "execution_count": 9,
   "metadata": {},
   "outputs": [
    {
     "data": {
      "text/plain": [
       "[scpufreq(current=2893.408, min=1200.0, max=3100.0),\n",
       " scpufreq(current=2893.406, min=1200.0, max=3100.0),\n",
       " scpufreq(current=2893.414, min=1200.0, max=3100.0),\n",
       " scpufreq(current=2893.404, min=1200.0, max=3100.0)]"
      ]
     },
     "execution_count": 9,
     "metadata": {},
     "output_type": "execute_result"
    }
   ],
   "source": [
    "psutil.cpu_freq(percpu=True)"
   ]
  },
  {
   "cell_type": "code",
   "execution_count": 10,
   "metadata": {},
   "outputs": [
    {
     "data": {
      "text/plain": [
       "1707641322.0"
      ]
     },
     "execution_count": 10,
     "metadata": {},
     "output_type": "execute_result"
    }
   ],
   "source": [
    "psutil.boot_time()"
   ]
  },
  {
   "cell_type": "code",
   "execution_count": 11,
   "metadata": {},
   "outputs": [
    {
     "data": {
      "text/plain": [
       "svmem(total=16647684096, available=12304842752, percent=26.1, used=3468238848, free=9020993536, active=4927864832, inactive=1752924160, buffers=234307584, cached=3924144128, shared=541118464, slab=333004800)"
      ]
     },
     "execution_count": 11,
     "metadata": {},
     "output_type": "execute_result"
    }
   ],
   "source": [
    "psutil.virtual_memory()"
   ]
  },
  {
   "cell_type": "code",
   "execution_count": 26,
   "metadata": {},
   "outputs": [],
   "source": [
    "import psutil\n",
    "mem = psutil.virtual_memory()\n",
    "mem\n",
    "THRESHOLD = 10000 * 1366 * 768  # 100MB\n",
    "if mem.available <= THRESHOLD:\n",
    "    print(\"warning\")"
   ]
  },
  {
   "cell_type": "code",
   "execution_count": 13,
   "metadata": {},
   "outputs": [
    {
     "data": {
      "text/plain": [
       "svmem(total=16647684096, available=12304584704, percent=26.1, used=3468496896, free=9020735488, active=4929871872, inactive=1752924160, buffers=234323968, cached=3924127744, shared=541118464, slab=333004800)"
      ]
     },
     "execution_count": 13,
     "metadata": {},
     "output_type": "execute_result"
    }
   ],
   "source": [
    "import psutil\n",
    "mem = psutil.virtual_memory()\n",
    "mem"
   ]
  },
  {
   "cell_type": "code",
   "execution_count": 14,
   "metadata": {},
   "outputs": [
    {
     "data": {
      "text/plain": [
       "{'lo': snicstats(isup=True, duplex=<NicDuplex.NIC_DUPLEX_UNKNOWN: 0>, speed=0, mtu=65536, flags='up,loopback,running'),\n",
       " 'enp2s0f0': snicstats(isup=True, duplex=<NicDuplex.NIC_DUPLEX_FULL: 2>, speed=1000, mtu=1500, flags='up,broadcast,running,multicast'),\n",
       " 'wlp3s0': snicstats(isup=True, duplex=<NicDuplex.NIC_DUPLEX_UNKNOWN: 0>, speed=0, mtu=1500, flags='up,broadcast,running,multicast')}"
      ]
     },
     "execution_count": 14,
     "metadata": {},
     "output_type": "execute_result"
    }
   ],
   "source": [
    "psutil.net_if_stats()"
   ]
  },
  {
   "cell_type": "code",
   "execution_count": 15,
   "metadata": {},
   "outputs": [
    {
     "name": "stdout",
     "output_type": "stream",
     "text": [
      "lo:\n",
      "    stats          : speed=0MB, duplex=?, mtu=65536, up=yes\n",
      "    incoming       : bytes=1.5M, pkts=8443, errs=0, drops=0\n",
      "    outgoing       : bytes=1.5M, pkts=8443, errs=0, drops=0\n",
      "    IPv4 address   : 127.0.0.1\n",
      "         netmask   : 255.0.0.0\n",
      "    IPv6 address   : ::1\n",
      "         netmask   : ffff:ffff:ffff:ffff:ffff:ffff:ffff:ffff\n",
      "    MAC  address   : 00:00:00:00:00:00\n",
      "\n",
      "enp2s0f0:\n",
      "    stats          : speed=1000MB, duplex=full, mtu=1500, up=yes\n",
      "    incoming       : bytes=49.1M, pkts=67254, errs=0, drops=0\n",
      "    outgoing       : bytes=14.4M, pkts=53692, errs=0, drops=0\n",
      "    IPv4 address   : 192.168.0.196\n",
      "         broadcast : 192.168.0.255\n",
      "         netmask   : 255.255.255.0\n",
      "    IPv6 address   : fd01::fc:a136:8f6c:424c\n",
      "         netmask   : ffff:ffff:ffff:ffff::\n",
      "    IPv6 address   : fd01::6058:90f3:f570:2953\n",
      "         netmask   : ffff:ffff:ffff:ffff::\n",
      "    IPv6 address   : fe80::9e0a:17c4:83a2:791c%enp2s0f0\n",
      "         netmask   : ffff:ffff:ffff:ffff::\n",
      "    MAC  address   : b8:88:e3:09:73:d5\n",
      "         broadcast : ff:ff:ff:ff:ff:ff\n",
      "\n",
      "wlp3s0:\n",
      "    stats          : speed=0MB, duplex=?, mtu=1500, up=yes\n",
      "    incoming       : bytes=609.0K, pkts=4407, errs=0, drops=0\n",
      "    outgoing       : bytes=1.3M, pkts=7569, errs=0, drops=0\n",
      "    IPv6 address   : fe80::8301:1e1d:3139:ac16%wlp3s0\n",
      "         netmask   : ffff:ffff:ffff:ffff::\n",
      "    MAC  address   : 08:ed:b9:ee:16:7f\n",
      "         broadcast : ff:ff:ff:ff:ff:ff\n",
      "\n"
     ]
    }
   ],
   "source": [
    "import socket\n",
    "import psutil\n",
    "from psutil._common import bytes2human\n",
    "\n",
    "af_map = {\n",
    "    socket.AF_INET: 'IPv4',\n",
    "    socket.AF_INET6: 'IPv6',\n",
    "    psutil.AF_LINK: 'MAC',\n",
    "}\n",
    "\n",
    "duplex_map = {\n",
    "    psutil.NIC_DUPLEX_FULL: \"full\",\n",
    "    psutil.NIC_DUPLEX_HALF: \"half\",\n",
    "    psutil.NIC_DUPLEX_UNKNOWN: \"?\",\n",
    "}\n",
    "\n",
    "def main():\n",
    "    stats = psutil.net_if_stats()\n",
    "    io_counters = psutil.net_io_counters(pernic=True)\n",
    "    for nic, addrs in psutil.net_if_addrs().items():\n",
    "        print(\"%s:\" % (nic))\n",
    "        if nic in stats:\n",
    "            st = stats[nic]\n",
    "            print(\"    stats          : \", end='')\n",
    "            print(\"speed=%sMB, duplex=%s, mtu=%s, up=%s\" % (\n",
    "                st.speed, duplex_map[st.duplex], st.mtu,\n",
    "                \"yes\" if st.isup else \"no\"))\n",
    "        if nic in io_counters:\n",
    "            io = io_counters[nic]\n",
    "            print(\"    incoming       : \", end='')\n",
    "            print(\"bytes=%s, pkts=%s, errs=%s, drops=%s\" % (\n",
    "                bytes2human(io.bytes_recv), io.packets_recv, io.errin,\n",
    "                io.dropin))\n",
    "            print(\"    outgoing       : \", end='')\n",
    "            print(\"bytes=%s, pkts=%s, errs=%s, drops=%s\" % (\n",
    "                bytes2human(io.bytes_sent), io.packets_sent, io.errout,\n",
    "                io.dropout))\n",
    "        for addr in addrs:\n",
    "            print(\"    %-4s\" % af_map.get(addr.family, addr.family), end=\"\")\n",
    "            print(\" address   : %s\" % addr.address)\n",
    "            if addr.broadcast:\n",
    "                print(\"         broadcast : %s\" % addr.broadcast)\n",
    "            if addr.netmask:\n",
    "                print(\"         netmask   : %s\" % addr.netmask)\n",
    "            if addr.ptp:\n",
    "                print(\"      p2p       : %s\" % addr.ptp)\n",
    "        print(\"\")\n",
    "\n",
    "if __name__ == '__main__':\n",
    "    main()\n"
   ]
  },
  {
   "cell_type": "code",
   "execution_count": 16,
   "metadata": {},
   "outputs": [
    {
     "data": {
      "text/plain": [
       "{'lo': [snicaddr(family=<AddressFamily.AF_INET: 2>, address='127.0.0.1', netmask='255.0.0.0', broadcast=None, ptp=None),\n",
       "  snicaddr(family=<AddressFamily.AF_INET6: 10>, address='::1', netmask='ffff:ffff:ffff:ffff:ffff:ffff:ffff:ffff', broadcast=None, ptp=None),\n",
       "  snicaddr(family=<AddressFamily.AF_PACKET: 17>, address='00:00:00:00:00:00', netmask=None, broadcast=None, ptp=None)],\n",
       " 'enp2s0f0': [snicaddr(family=<AddressFamily.AF_INET: 2>, address='192.168.0.196', netmask='255.255.255.0', broadcast='192.168.0.255', ptp=None),\n",
       "  snicaddr(family=<AddressFamily.AF_INET6: 10>, address='fd01::fc:a136:8f6c:424c', netmask='ffff:ffff:ffff:ffff::', broadcast=None, ptp=None),\n",
       "  snicaddr(family=<AddressFamily.AF_INET6: 10>, address='fd01::6058:90f3:f570:2953', netmask='ffff:ffff:ffff:ffff::', broadcast=None, ptp=None),\n",
       "  snicaddr(family=<AddressFamily.AF_INET6: 10>, address='fe80::9e0a:17c4:83a2:791c%enp2s0f0', netmask='ffff:ffff:ffff:ffff::', broadcast=None, ptp=None),\n",
       "  snicaddr(family=<AddressFamily.AF_PACKET: 17>, address='b8:88:e3:09:73:d5', netmask=None, broadcast='ff:ff:ff:ff:ff:ff', ptp=None)],\n",
       " 'wlp3s0': [snicaddr(family=<AddressFamily.AF_INET6: 10>, address='fe80::8301:1e1d:3139:ac16%wlp3s0', netmask='ffff:ffff:ffff:ffff::', broadcast=None, ptp=None),\n",
       "  snicaddr(family=<AddressFamily.AF_PACKET: 17>, address='08:ed:b9:ee:16:7f', netmask=None, broadcast='ff:ff:ff:ff:ff:ff', ptp=None)]}"
      ]
     },
     "execution_count": 16,
     "metadata": {},
     "output_type": "execute_result"
    }
   ],
   "source": [
    "psutil.net_if_addrs()"
   ]
  },
  {
   "cell_type": "code",
   "execution_count": 17,
   "metadata": {},
   "outputs": [
    {
     "name": "stdout",
     "output_type": "stream",
     "text": [
      "{'pid': 1, 'username': 'root', 'name': 'systemd'}\n",
      "{'pid': 2, 'username': 'root', 'name': 'kthreadd'}\n",
      "{'pid': 3, 'username': 'root', 'name': 'rcu_gp'}\n",
      "{'pid': 4, 'username': 'root', 'name': 'rcu_par_gp'}\n",
      "{'pid': 5, 'username': 'root', 'name': 'slub_flushwq'}\n",
      "{'pid': 6, 'username': 'root', 'name': 'netns'}\n",
      "{'pid': 8, 'username': 'root', 'name': 'kworker/0:0H-events_highpri'}\n",
      "{'pid': 11, 'username': 'root', 'name': 'mm_percpu_wq'}\n",
      "{'pid': 12, 'username': 'root', 'name': 'rcu_tasks_kthread'}\n",
      "{'pid': 13, 'username': 'root', 'name': 'rcu_tasks_rude_kthread'}\n",
      "{'pid': 14, 'username': 'root', 'name': 'rcu_tasks_trace_kthread'}\n",
      "{'pid': 15, 'username': 'root', 'name': 'ksoftirqd/0'}\n",
      "{'pid': 16, 'username': 'root', 'name': 'rcu_preempt'}\n",
      "{'pid': 17, 'username': 'root', 'name': 'migration/0'}\n",
      "{'pid': 18, 'username': 'root', 'name': 'idle_inject/0'}\n",
      "{'pid': 19, 'username': 'root', 'name': 'cpuhp/0'}\n",
      "{'pid': 20, 'username': 'root', 'name': 'cpuhp/2'}\n",
      "{'pid': 21, 'username': 'root', 'name': 'idle_inject/2'}\n",
      "{'pid': 22, 'username': 'root', 'name': 'migration/2'}\n",
      "{'pid': 23, 'username': 'root', 'name': 'ksoftirqd/2'}\n",
      "{'pid': 26, 'username': 'root', 'name': 'cpuhp/1'}\n",
      "{'pid': 27, 'username': 'root', 'name': 'idle_inject/1'}\n",
      "{'pid': 28, 'username': 'root', 'name': 'migration/1'}\n",
      "{'pid': 29, 'username': 'root', 'name': 'ksoftirqd/1'}\n",
      "{'pid': 31, 'username': 'root', 'name': 'kworker/1:0H-events_highpri'}\n",
      "{'pid': 32, 'username': 'root', 'name': 'cpuhp/3'}\n",
      "{'pid': 33, 'username': 'root', 'name': 'idle_inject/3'}\n",
      "{'pid': 34, 'username': 'root', 'name': 'migration/3'}\n",
      "{'pid': 35, 'username': 'root', 'name': 'ksoftirqd/3'}\n",
      "{'pid': 37, 'username': 'root', 'name': 'kworker/3:0H-events_highpri'}\n",
      "{'pid': 38, 'username': 'root', 'name': 'kdevtmpfs'}\n",
      "{'pid': 39, 'username': 'root', 'name': 'inet_frag_wq'}\n",
      "{'pid': 41, 'username': 'root', 'name': 'kauditd'}\n",
      "{'pid': 42, 'username': 'root', 'name': 'khungtaskd'}\n",
      "{'pid': 43, 'username': 'root', 'name': 'oom_reaper'}\n",
      "{'pid': 45, 'username': 'root', 'name': 'writeback'}\n",
      "{'pid': 46, 'username': 'root', 'name': 'kcompactd0'}\n",
      "{'pid': 47, 'username': 'root', 'name': 'ksmd'}\n",
      "{'pid': 48, 'username': 'root', 'name': 'khugepaged'}\n",
      "{'pid': 49, 'username': 'root', 'name': 'kintegrityd'}\n",
      "{'pid': 50, 'username': 'root', 'name': 'kblockd'}\n",
      "{'pid': 51, 'username': 'root', 'name': 'blkcg_punt_bio'}\n",
      "{'pid': 54, 'username': 'root', 'name': 'tpm_dev_wq'}\n",
      "{'pid': 55, 'username': 'root', 'name': 'ata_sff'}\n",
      "{'pid': 56, 'username': 'root', 'name': 'md'}\n",
      "{'pid': 57, 'username': 'root', 'name': 'md_bitmap'}\n",
      "{'pid': 58, 'username': 'root', 'name': 'edac-poller'}\n",
      "{'pid': 59, 'username': 'root', 'name': 'devfreq_wq'}\n",
      "{'pid': 60, 'username': 'root', 'name': 'watchdogd'}\n",
      "{'pid': 62, 'username': 'root', 'name': 'kworker/2:1H-kblockd'}\n",
      "{'pid': 63, 'username': 'root', 'name': 'kswapd0'}\n",
      "{'pid': 64, 'username': 'root', 'name': 'ecryptfs-kthread'}\n",
      "{'pid': 65, 'username': 'root', 'name': 'kthrotld'}\n",
      "{'pid': 66, 'username': 'root', 'name': 'acpi_thermal_pm'}\n",
      "{'pid': 71, 'username': 'root', 'name': 'mld'}\n",
      "{'pid': 72, 'username': 'root', 'name': 'ipv6_addrconf'}\n",
      "{'pid': 74, 'username': 'root', 'name': 'kworker/3:1H-kblockd'}\n",
      "{'pid': 82, 'username': 'root', 'name': 'kstrp'}\n",
      "{'pid': 88, 'username': 'root', 'name': 'charger_manager'}\n",
      "{'pid': 110, 'username': 'root', 'name': 'kworker/0:1H-events_highpri'}\n",
      "{'pid': 119, 'username': 'root', 'name': 'kworker/1:1H-events_highpri'}\n",
      "{'pid': 139, 'username': 'root', 'name': 'sdhci'}\n",
      "{'pid': 140, 'username': 'root', 'name': 'irq/17-mmc0'}\n",
      "{'pid': 142, 'username': 'root', 'name': 'scsi_eh_0'}\n",
      "{'pid': 143, 'username': 'root', 'name': 'scsi_tmf_0'}\n",
      "{'pid': 149, 'username': 'root', 'name': 'scsi_eh_1'}\n",
      "{'pid': 150, 'username': 'root', 'name': 'scsi_tmf_1'}\n",
      "{'pid': 152, 'username': 'root', 'name': 'scsi_eh_2'}\n",
      "{'pid': 153, 'username': 'root', 'name': 'scsi_tmf_2'}\n",
      "{'pid': 154, 'username': 'root', 'name': 'scsi_eh_3'}\n",
      "{'pid': 155, 'username': 'root', 'name': 'scsi_tmf_3'}\n",
      "{'pid': 157, 'username': 'root', 'name': 'scsi_eh_4'}\n",
      "{'pid': 159, 'username': 'root', 'name': 'scsi_tmf_4'}\n",
      "{'pid': 160, 'username': 'root', 'name': 'scsi_eh_5'}\n",
      "{'pid': 161, 'username': 'root', 'name': 'scsi_tmf_5'}\n",
      "{'pid': 195, 'username': 'root', 'name': 'jbd2/sda9-8'}\n",
      "{'pid': 196, 'username': 'root', 'name': 'ext4-rsv-conver'}\n",
      "{'pid': 236, 'username': 'root', 'name': 'systemd-journald'}\n",
      "{'pid': 300, 'username': 'root', 'name': 'systemd-udevd'}\n",
      "{'pid': 351, 'username': 'root', 'name': 'irq/27-mei_me'}\n",
      "{'pid': 357, 'username': 'root', 'name': 'cfg80211'}\n",
      "{'pid': 371, 'username': 'root', 'name': 'wl_event_handler'}\n",
      "{'pid': 413, 'username': 'root', 'name': 'ttm'}\n",
      "{'pid': 414, 'username': 'root', 'name': 'kworker/2:2H-events_highpri'}\n",
      "{'pid': 421, 'username': 'root', 'name': 'cryptd'}\n",
      "{'pid': 434, 'username': 'root', 'name': 'card0-crtc0'}\n",
      "{'pid': 438, 'username': 'root', 'name': 'card0-crtc1'}\n",
      "{'pid': 442, 'username': 'root', 'name': 'card0-crtc2'}\n",
      "{'pid': 457, 'username': 'root', 'name': 'jbd2/sda6-8'}\n",
      "{'pid': 458, 'username': 'root', 'name': 'ext4-rsv-conver'}\n",
      "{'pid': 463, 'username': 'root', 'name': 'nvkm-disp'}\n",
      "{'pid': 465, 'username': 'root', 'name': 'jbd2/sda7-8'}\n",
      "{'pid': 466, 'username': 'root', 'name': 'ext4-rsv-conver'}\n",
      "{'pid': 475, 'username': 'root', 'name': 'mount.ntfs'}\n",
      "{'pid': 476, 'username': 'root', 'name': 'mount.ntfs'}\n",
      "{'pid': 483, 'username': 'root', 'name': 'mount.ntfs'}\n",
      "{'pid': 528, 'username': 'root', 'name': 'ttm'}\n",
      "{'pid': 532, 'username': 'root', 'name': 'card1-crtc0'}\n",
      "{'pid': 533, 'username': 'root', 'name': 'card1-crtc1'}\n",
      "{'pid': 658, 'username': 'systemd-oom', 'name': 'systemd-oomd'}\n",
      "{'pid': 667, 'username': 'systemd-resolve', 'name': 'systemd-resolved'}\n",
      "{'pid': 668, 'username': 'systemd-timesync', 'name': 'systemd-timesyncd'}\n",
      "{'pid': 844, 'username': 'root', 'name': 'accounts-daemon'}\n",
      "{'pid': 845, 'username': 'root', 'name': 'acpid'}\n",
      "{'pid': 849, 'username': 'avahi', 'name': 'avahi-daemon'}\n",
      "{'pid': 851, 'username': 'root', 'name': 'bluetoothd'}\n",
      "{'pid': 855, 'username': 'root', 'name': 'cron'}\n",
      "{'pid': 856, 'username': 'messagebus', 'name': 'dbus-daemon'}\n",
      "{'pid': 857, 'username': 'root', 'name': 'NetworkManager'}\n",
      "{'pid': 865, 'username': 'root', 'name': 'irqbalance'}\n",
      "{'pid': 868, 'username': 'root', 'name': 'networkd-dispat'}\n",
      "{'pid': 869, 'username': 'root', 'name': 'polkitd'}\n",
      "{'pid': 871, 'username': 'root', 'name': 'power-profiles-daemon'}\n",
      "{'pid': 873, 'username': 'syslog', 'name': 'rsyslogd'}\n",
      "{'pid': 877, 'username': 'root', 'name': 'snapd'}\n",
      "{'pid': 878, 'username': 'root', 'name': 'switcheroo-control'}\n",
      "{'pid': 880, 'username': 'root', 'name': 'systemd-logind'}\n",
      "{'pid': 881, 'username': 'root', 'name': 'thermald'}\n",
      "{'pid': 882, 'username': 'root', 'name': 'udisksd'}\n",
      "{'pid': 884, 'username': 'root', 'name': 'wpa_supplicant'}\n",
      "{'pid': 891, 'username': 'avahi', 'name': 'avahi-daemon'}\n",
      "{'pid': 914, 'username': 'root', 'name': 'and'}\n",
      "{'pid': 939, 'username': 'root', 'name': 'ModemManager'}\n",
      "{'pid': 944, 'username': 'root', 'name': 'cupsd'}\n",
      "{'pid': 951, 'username': 'root', 'name': 'canonical-livepatchd'}\n",
      "{'pid': 1033, 'username': 'root', 'name': 'unattended-upgr'}\n",
      "{'pid': 1650, 'username': 'root', 'name': 'gdm3'}\n",
      "{'pid': 1655, 'username': 'root', 'name': 'gdm-session-worker'}\n",
      "{'pid': 1660, 'username': 'searhei', 'name': 'systemd'}\n",
      "{'pid': 1661, 'username': 'searhei', 'name': '(sd-pam)'}\n",
      "{'pid': 1668, 'username': 'searhei', 'name': 'pipewire'}\n",
      "{'pid': 1669, 'username': 'searhei', 'name': 'pipewire-media-session'}\n",
      "{'pid': 1670, 'username': 'searhei', 'name': 'pulseaudio'}\n",
      "{'pid': 1673, 'username': 'searhei', 'name': 'ubuntu-report'}\n",
      "{'pid': 1681, 'username': 'searhei', 'name': 'gnome-keyring-daemon'}\n",
      "{'pid': 1696, 'username': 'rtkit', 'name': 'rtkit-daemon'}\n",
      "{'pid': 1700, 'username': 'searhei', 'name': 'gdm-wayland-session'}\n",
      "{'pid': 1708, 'username': 'searhei', 'name': 'dbus-daemon'}\n",
      "{'pid': 1714, 'username': 'searhei', 'name': 'xdg-document-portal'}\n",
      "{'pid': 1715, 'username': 'searhei', 'name': 'gnome-session-binary'}\n",
      "{'pid': 1732, 'username': 'searhei', 'name': 'gvfsd'}\n",
      "{'pid': 1741, 'username': 'searhei', 'name': 'xdg-permission-store'}\n",
      "{'pid': 1756, 'username': 'searhei', 'name': 'gvfsd-fuse'}\n",
      "{'pid': 1758, 'username': 'searhei', 'name': 'fusermount3'}\n",
      "{'pid': 1795, 'username': 'searhei', 'name': 'gnome-session-ctl'}\n",
      "{'pid': 1807, 'username': 'searhei', 'name': 'gnome-session-binary'}\n",
      "{'pid': 1832, 'username': 'searhei', 'name': 'at-spi-bus-launcher'}\n",
      "{'pid': 1839, 'username': 'searhei', 'name': 'dbus-daemon'}\n",
      "{'pid': 1842, 'username': 'searhei', 'name': 'gnome-shell'}\n",
      "{'pid': 1905, 'username': 'root', 'name': 'krfcommd'}\n",
      "{'pid': 1916, 'username': 'searhei', 'name': 'gnome-shell-calendar-server'}\n",
      "{'pid': 1922, 'username': 'searhei', 'name': 'evolution-source-registry'}\n",
      "{'pid': 1927, 'username': 'root', 'name': 'upowerd'}\n",
      "{'pid': 1930, 'username': 'searhei', 'name': 'goa-daemon'}\n",
      "{'pid': 1931, 'username': 'geoclue', 'name': 'geoclue'}\n",
      "{'pid': 1936, 'username': 'searhei', 'name': 'dconf-service'}\n",
      "{'pid': 1941, 'username': 'searhei', 'name': 'evolution-calendar-factory'}\n",
      "{'pid': 1943, 'username': 'searhei', 'name': 'gvfs-udisks2-volume-monitor'}\n",
      "{'pid': 1953, 'username': 'searhei', 'name': 'goa-identity-service'}\n",
      "{'pid': 1967, 'username': 'searhei', 'name': 'gvfs-afc-volume-monitor'}\n",
      "{'pid': 1972, 'username': 'searhei', 'name': 'evolution-addressbook-factory'}\n",
      "{'pid': 1977, 'username': 'searhei', 'name': 'gvfs-mtp-volume-monitor'}\n",
      "{'pid': 1986, 'username': 'searhei', 'name': 'gvfs-gphoto2-volume-monitor'}\n",
      "{'pid': 1992, 'username': 'searhei', 'name': 'gvfs-goa-volume-monitor'}\n",
      "{'pid': 1999, 'username': 'root', 'name': 'packagekitd'}\n",
      "{'pid': 2006, 'username': 'searhei', 'name': 'gvfsd-trash'}\n",
      "{'pid': 2018, 'username': 'searhei', 'name': 'gjs'}\n",
      "{'pid': 2020, 'username': 'searhei', 'name': 'at-spi2-registryd'}\n",
      "{'pid': 2031, 'username': 'searhei', 'name': 'sh'}\n",
      "{'pid': 2032, 'username': 'searhei', 'name': 'gsd-a11y-settings'}\n",
      "{'pid': 2033, 'username': 'searhei', 'name': 'gsd-color'}\n",
      "{'pid': 2035, 'username': 'searhei', 'name': 'gsd-datetime'}\n",
      "{'pid': 2036, 'username': 'searhei', 'name': 'gsd-housekeeping'}\n",
      "{'pid': 2038, 'username': 'searhei', 'name': 'gsd-keyboard'}\n",
      "{'pid': 2039, 'username': 'searhei', 'name': 'gsd-media-keys'}\n",
      "{'pid': 2045, 'username': 'searhei', 'name': 'gsd-power'}\n",
      "{'pid': 2047, 'username': 'searhei', 'name': 'ibus-daemon'}\n",
      "{'pid': 2052, 'username': 'searhei', 'name': 'gsd-print-notifications'}\n",
      "{'pid': 2057, 'username': 'searhei', 'name': 'gsd-rfkill'}\n",
      "{'pid': 2058, 'username': 'searhei', 'name': 'gsd-screensaver-proxy'}\n",
      "{'pid': 2059, 'username': 'searhei', 'name': 'gsd-sharing'}\n",
      "{'pid': 2060, 'username': 'searhei', 'name': 'gsd-smartcard'}\n",
      "{'pid': 2061, 'username': 'searhei', 'name': 'gsd-sound'}\n",
      "{'pid': 2062, 'username': 'searhei', 'name': 'gsd-wacom'}\n",
      "{'pid': 2116, 'username': 'searhei', 'name': 'snapd-desktop-integration'}\n",
      "{'pid': 2141, 'username': 'searhei', 'name': 'evolution-alarm-notify'}\n",
      "{'pid': 2146, 'username': 'searhei', 'name': 'ibus-dconf'}\n",
      "{'pid': 2152, 'username': 'searhei', 'name': 'ibus-extension-gtk3'}\n",
      "{'pid': 2154, 'username': 'searhei', 'name': 'gsd-disk-utility-notify'}\n",
      "{'pid': 2190, 'username': 'searhei', 'name': 'ibus-portal'}\n",
      "{'pid': 2197, 'username': 'searhei', 'name': 'snap-store'}\n",
      "{'pid': 2284, 'username': 'searhei', 'name': 'gsd-printer'}\n",
      "{'pid': 2302, 'username': 'searhei', 'name': 'ibus-engine-simple'}\n",
      "{'pid': 2305, 'username': 'searhei', 'name': 'snapd-desktop-integration'}\n",
      "{'pid': 2309, 'username': 'searhei', 'name': 'xdg-desktop-portal'}\n",
      "{'pid': 2314, 'username': 'searhei', 'name': 'xdg-desktop-portal-gnome'}\n",
      "{'pid': 2411, 'username': 'colord', 'name': 'colord'}\n",
      "{'pid': 2422, 'username': 'searhei', 'name': 'tracker-miner-fs-3'}\n",
      "{'pid': 2459, 'username': 'searhei', 'name': 'gjs'}\n",
      "{'pid': 2489, 'username': 'searhei', 'name': 'xdg-desktop-portal-gtk'}\n",
      "{'pid': 2581, 'username': 'searhei', 'name': 'gvfsd-metadata'}\n",
      "{'pid': 3611, 'username': 'root', 'name': 'cups-browsed'}\n",
      "{'pid': 3613, 'username': 'root', 'name': 'nmbd'}\n",
      "{'pid': 3615, 'username': 'kernoops', 'name': 'kerneloops'}\n",
      "{'pid': 3617, 'username': 'kernoops', 'name': 'kerneloops'}\n",
      "{'pid': 3625, 'username': 'root', 'name': 'smbd'}\n",
      "{'pid': 3627, 'username': 'root', 'name': 'smbd-notifyd'}\n",
      "{'pid': 3628, 'username': 'root', 'name': 'cleanupd'}\n",
      "{'pid': 3629, 'username': 'root', 'name': 'samba-bgqd'}\n",
      "{'pid': 3637, 'username': 'searhei', 'name': 'update-notifier'}\n",
      "{'pid': 3794, 'username': 'searhei', 'name': 'deja-dup-monitor'}\n",
      "{'pid': 3921, 'username': 'searhei', 'name': 'Xwayland'}\n",
      "{'pid': 4026, 'username': 'searhei', 'name': 'gsd-xsettings'}\n",
      "{'pid': 4052, 'username': 'searhei', 'name': 'ibus-x11'}\n",
      "{'pid': 4585, 'username': 'searhei', 'name': 'ssh-agent'}\n",
      "{'pid': 4765, 'username': 'searhei', 'name': 'deja-dup'}\n",
      "{'pid': 6362, 'username': 'root', 'name': 'tls-strp'}\n",
      "{'pid': 8429, 'username': 'searhei', 'name': 'firefox'}\n",
      "{'pid': 8599, 'username': 'searhei', 'name': 'Socket Process'}\n",
      "{'pid': 8617, 'username': 'searhei', 'name': 'Privileged Cont'}\n",
      "{'pid': 8651, 'username': 'searhei', 'name': 'Isolated Web Co'}\n",
      "{'pid': 8655, 'username': 'searhei', 'name': 'Isolated Web Co'}\n",
      "{'pid': 8659, 'username': 'searhei', 'name': 'Isolated Web Co'}\n",
      "{'pid': 8702, 'username': 'searhei', 'name': 'snap'}\n",
      "{'pid': 8875, 'username': 'searhei', 'name': 'WebExtensions'}\n",
      "{'pid': 9175, 'username': 'searhei', 'name': 'Utility Process'}\n",
      "{'pid': 9230, 'username': 'searhei', 'name': 'Isolated Web Co'}\n",
      "{'pid': 9262, 'username': 'searhei', 'name': 'RDD Process'}\n",
      "{'pid': 9272, 'username': 'searhei', 'name': 'Isolated Web Co'}\n",
      "{'pid': 9326, 'username': 'searhei', 'name': 'speech-dispatcher'}\n",
      "{'pid': 9338, 'username': 'searhei', 'name': 'sd_espeak-ng-mb'}\n",
      "{'pid': 9342, 'username': 'searhei', 'name': 'sd_espeak-ng'}\n",
      "{'pid': 9346, 'username': 'searhei', 'name': 'sd_dummy'}\n",
      "{'pid': 9470, 'username': 'searhei', 'name': 'Isolated Web Co'}\n",
      "{'pid': 10493, 'username': 'root', 'name': 'kworker/3:0-events'}\n",
      "{'pid': 10673, 'username': 'searhei', 'name': 'Isolated Web Co'}\n",
      "{'pid': 10832, 'username': 'root', 'name': 'kworker/2:2-cgroup_destroy'}\n",
      "{'pid': 12064, 'username': 'root', 'name': 'kworker/1:2-i915-unordered'}\n",
      "{'pid': 13553, 'username': 'root', 'name': 'kworker/0:0-events'}\n",
      "{'pid': 13680, 'username': 'searhei', 'name': 'zoom'}\n",
      "{'pid': 13682, 'username': 'searhei', 'name': 'zoom'}\n",
      "{'pid': 13693, 'username': 'searhei', 'name': 'zoom'}\n",
      "{'pid': 13694, 'username': 'searhei', 'name': 'zoom'}\n",
      "{'pid': 13710, 'username': 'searhei', 'name': 'zoom'}\n",
      "{'pid': 13727, 'username': 'searhei', 'name': 'zoom'}\n",
      "{'pid': 13771, 'username': 'searhei', 'name': 'zoom'}\n",
      "{'pid': 13841, 'username': 'searhei', 'name': 'zoom'}\n",
      "{'pid': 13849, 'username': 'searhei', 'name': 'zoom'}\n",
      "{'pid': 13850, 'username': 'searhei', 'name': 'zoom'}\n",
      "{'pid': 13861, 'username': 'searhei', 'name': 'zoom'}\n",
      "{'pid': 14982, 'username': 'root', 'name': 'kworker/u17:2-hci0'}\n",
      "{'pid': 15011, 'username': 'root', 'name': 'khidpd_0a5c4503'}\n",
      "{'pid': 15062, 'username': 'searhei', 'name': 'gjs'}\n",
      "{'pid': 15258, 'username': 'root', 'name': 'kworker/u16:0-i915'}\n",
      "{'pid': 15300, 'username': 'root', 'name': 'kworker/u17:0+i915_flip'}\n",
      "{'pid': 15349, 'username': 'root', 'name': 'kworker/1:1-events'}\n",
      "{'pid': 15449, 'username': 'root', 'name': 'kworker/2:0-events'}\n",
      "{'pid': 15788, 'username': 'root', 'name': 'kworker/u16:1-writeback'}\n",
      "{'pid': 16057, 'username': 'root', 'name': 'kworker/u16:3-flush-8:0'}\n",
      "{'pid': 16071, 'username': 'root', 'name': 'kworker/0:2-i915-unordered'}\n",
      "{'pid': 16083, 'username': 'root', 'name': 'kworker/2:1-mm_percpu_wq'}\n",
      "{'pid': 16283, 'username': 'root', 'name': 'kworker/3:2-events'}\n",
      "{'pid': 16314, 'username': 'root', 'name': 'kworker/1:0-events'}\n",
      "{'pid': 16315, 'username': 'searhei', 'name': 'Web Content'}\n",
      "{'pid': 16317, 'username': 'searhei', 'name': 'Web Content'}\n",
      "{'pid': 16354, 'username': 'searhei', 'name': 'Web Content'}\n",
      "{'pid': 16409, 'username': 'root', 'name': 'kworker/0:1'}\n",
      "{'pid': 16410, 'username': 'root', 'name': 'kworker/u17:1-hci0'}\n",
      "{'pid': 16486, 'username': 'searhei', 'name': 'code'}\n",
      "{'pid': 16488, 'username': 'searhei', 'name': 'code'}\n",
      "{'pid': 16489, 'username': 'searhei', 'name': 'code'}\n",
      "{'pid': 16502, 'username': 'searhei', 'name': 'chrome_crashpad_handler'}\n",
      "{'pid': 16522, 'username': 'searhei', 'name': 'code'}\n",
      "{'pid': 16556, 'username': 'searhei', 'name': 'code'}\n",
      "{'pid': 16593, 'username': 'searhei', 'name': 'code'}\n",
      "{'pid': 16609, 'username': 'searhei', 'name': 'code'}\n",
      "{'pid': 16629, 'username': 'searhei', 'name': 'code'}\n",
      "{'pid': 16782, 'username': 'searhei', 'name': 'code'}\n",
      "{'pid': 16793, 'username': 'searhei', 'name': 'code'}\n",
      "{'pid': 16815, 'username': 'searhei', 'name': 'bash'}\n",
      "{'pid': 16938, 'username': 'searhei', 'name': 'bash'}\n",
      "{'pid': 16946, 'username': 'searhei', 'name': 'code'}\n",
      "{'pid': 17036, 'username': 'root', 'name': 'kworker/2:3-cgroup_destroy'}\n",
      "{'pid': 17069, 'username': 'searhei', 'name': 'python'}\n",
      "{'pid': 17092, 'username': 'searhei', 'name': 'code'}\n",
      "{'pid': 17103, 'username': 'searhei', 'name': 'python'}\n"
     ]
    }
   ],
   "source": [
    "for proc in psutil.process_iter(['pid', 'name', 'username']):\n",
    "    print(proc.info)"
   ]
  },
  {
   "cell_type": "code",
   "execution_count": 18,
   "metadata": {},
   "outputs": [
    {
     "data": {
      "text/plain": [
       "{1: {'username': 'root', 'name': 'systemd'},\n",
       " 2: {'username': 'root', 'name': 'kthreadd'},\n",
       " 3: {'username': 'root', 'name': 'rcu_gp'},\n",
       " 4: {'username': 'root', 'name': 'rcu_par_gp'},\n",
       " 5: {'username': 'root', 'name': 'slub_flushwq'},\n",
       " 6: {'username': 'root', 'name': 'netns'},\n",
       " 8: {'username': 'root', 'name': 'kworker/0:0H-events_highpri'},\n",
       " 11: {'username': 'root', 'name': 'mm_percpu_wq'},\n",
       " 12: {'username': 'root', 'name': 'rcu_tasks_kthread'},\n",
       " 13: {'username': 'root', 'name': 'rcu_tasks_rude_kthread'},\n",
       " 14: {'username': 'root', 'name': 'rcu_tasks_trace_kthread'},\n",
       " 15: {'username': 'root', 'name': 'ksoftirqd/0'},\n",
       " 16: {'username': 'root', 'name': 'rcu_preempt'},\n",
       " 17: {'username': 'root', 'name': 'migration/0'},\n",
       " 18: {'username': 'root', 'name': 'idle_inject/0'},\n",
       " 19: {'username': 'root', 'name': 'cpuhp/0'},\n",
       " 20: {'username': 'root', 'name': 'cpuhp/2'},\n",
       " 21: {'username': 'root', 'name': 'idle_inject/2'},\n",
       " 22: {'username': 'root', 'name': 'migration/2'},\n",
       " 23: {'username': 'root', 'name': 'ksoftirqd/2'},\n",
       " 26: {'username': 'root', 'name': 'cpuhp/1'},\n",
       " 27: {'username': 'root', 'name': 'idle_inject/1'},\n",
       " 28: {'username': 'root', 'name': 'migration/1'},\n",
       " 29: {'username': 'root', 'name': 'ksoftirqd/1'},\n",
       " 31: {'username': 'root', 'name': 'kworker/1:0H-events_highpri'},\n",
       " 32: {'username': 'root', 'name': 'cpuhp/3'},\n",
       " 33: {'username': 'root', 'name': 'idle_inject/3'},\n",
       " 34: {'username': 'root', 'name': 'migration/3'},\n",
       " 35: {'username': 'root', 'name': 'ksoftirqd/3'},\n",
       " 37: {'username': 'root', 'name': 'kworker/3:0H-events_highpri'},\n",
       " 38: {'username': 'root', 'name': 'kdevtmpfs'},\n",
       " 39: {'username': 'root', 'name': 'inet_frag_wq'},\n",
       " 41: {'username': 'root', 'name': 'kauditd'},\n",
       " 42: {'username': 'root', 'name': 'khungtaskd'},\n",
       " 43: {'username': 'root', 'name': 'oom_reaper'},\n",
       " 45: {'username': 'root', 'name': 'writeback'},\n",
       " 46: {'username': 'root', 'name': 'kcompactd0'},\n",
       " 47: {'username': 'root', 'name': 'ksmd'},\n",
       " 48: {'username': 'root', 'name': 'khugepaged'},\n",
       " 49: {'username': 'root', 'name': 'kintegrityd'},\n",
       " 50: {'username': 'root', 'name': 'kblockd'},\n",
       " 51: {'username': 'root', 'name': 'blkcg_punt_bio'},\n",
       " 54: {'username': 'root', 'name': 'tpm_dev_wq'},\n",
       " 55: {'username': 'root', 'name': 'ata_sff'},\n",
       " 56: {'username': 'root', 'name': 'md'},\n",
       " 57: {'username': 'root', 'name': 'md_bitmap'},\n",
       " 58: {'username': 'root', 'name': 'edac-poller'},\n",
       " 59: {'username': 'root', 'name': 'devfreq_wq'},\n",
       " 60: {'username': 'root', 'name': 'watchdogd'},\n",
       " 62: {'username': 'root', 'name': 'kworker/2:1H-kblockd'},\n",
       " 63: {'username': 'root', 'name': 'kswapd0'},\n",
       " 64: {'username': 'root', 'name': 'ecryptfs-kthread'},\n",
       " 65: {'username': 'root', 'name': 'kthrotld'},\n",
       " 66: {'username': 'root', 'name': 'acpi_thermal_pm'},\n",
       " 71: {'username': 'root', 'name': 'mld'},\n",
       " 72: {'username': 'root', 'name': 'ipv6_addrconf'},\n",
       " 74: {'username': 'root', 'name': 'kworker/3:1H-kblockd'},\n",
       " 82: {'username': 'root', 'name': 'kstrp'},\n",
       " 88: {'username': 'root', 'name': 'charger_manager'},\n",
       " 110: {'username': 'root', 'name': 'kworker/0:1H-kblockd'},\n",
       " 119: {'username': 'root', 'name': 'kworker/1:1H-events_highpri'},\n",
       " 139: {'username': 'root', 'name': 'sdhci'},\n",
       " 140: {'username': 'root', 'name': 'irq/17-mmc0'},\n",
       " 142: {'username': 'root', 'name': 'scsi_eh_0'},\n",
       " 143: {'username': 'root', 'name': 'scsi_tmf_0'},\n",
       " 149: {'username': 'root', 'name': 'scsi_eh_1'},\n",
       " 150: {'username': 'root', 'name': 'scsi_tmf_1'},\n",
       " 152: {'username': 'root', 'name': 'scsi_eh_2'},\n",
       " 153: {'username': 'root', 'name': 'scsi_tmf_2'},\n",
       " 154: {'username': 'root', 'name': 'scsi_eh_3'},\n",
       " 155: {'username': 'root', 'name': 'scsi_tmf_3'},\n",
       " 157: {'username': 'root', 'name': 'scsi_eh_4'},\n",
       " 159: {'username': 'root', 'name': 'scsi_tmf_4'},\n",
       " 160: {'username': 'root', 'name': 'scsi_eh_5'},\n",
       " 161: {'username': 'root', 'name': 'scsi_tmf_5'},\n",
       " 195: {'username': 'root', 'name': 'jbd2/sda9-8'},\n",
       " 196: {'username': 'root', 'name': 'ext4-rsv-conver'},\n",
       " 236: {'username': 'root', 'name': 'systemd-journald'},\n",
       " 300: {'username': 'root', 'name': 'systemd-udevd'},\n",
       " 351: {'username': 'root', 'name': 'irq/27-mei_me'},\n",
       " 357: {'username': 'root', 'name': 'cfg80211'},\n",
       " 371: {'username': 'root', 'name': 'wl_event_handler'},\n",
       " 413: {'username': 'root', 'name': 'ttm'},\n",
       " 414: {'username': 'root', 'name': 'kworker/2:2H-events_highpri'},\n",
       " 421: {'username': 'root', 'name': 'cryptd'},\n",
       " 434: {'username': 'root', 'name': 'card0-crtc0'},\n",
       " 438: {'username': 'root', 'name': 'card0-crtc1'},\n",
       " 442: {'username': 'root', 'name': 'card0-crtc2'},\n",
       " 457: {'username': 'root', 'name': 'jbd2/sda6-8'},\n",
       " 458: {'username': 'root', 'name': 'ext4-rsv-conver'},\n",
       " 463: {'username': 'root', 'name': 'nvkm-disp'},\n",
       " 465: {'username': 'root', 'name': 'jbd2/sda7-8'},\n",
       " 466: {'username': 'root', 'name': 'ext4-rsv-conver'},\n",
       " 475: {'username': 'root', 'name': 'mount.ntfs'},\n",
       " 476: {'username': 'root', 'name': 'mount.ntfs'},\n",
       " 483: {'username': 'root', 'name': 'mount.ntfs'},\n",
       " 528: {'username': 'root', 'name': 'ttm'},\n",
       " 532: {'username': 'root', 'name': 'card1-crtc0'},\n",
       " 533: {'username': 'root', 'name': 'card1-crtc1'},\n",
       " 658: {'username': 'systemd-oom', 'name': 'systemd-oomd'},\n",
       " 667: {'username': 'systemd-resolve', 'name': 'systemd-resolved'},\n",
       " 668: {'username': 'systemd-timesync', 'name': 'systemd-timesyncd'},\n",
       " 844: {'username': 'root', 'name': 'accounts-daemon'},\n",
       " 845: {'username': 'root', 'name': 'acpid'},\n",
       " 849: {'username': 'avahi', 'name': 'avahi-daemon'},\n",
       " 851: {'username': 'root', 'name': 'bluetoothd'},\n",
       " 855: {'username': 'root', 'name': 'cron'},\n",
       " 856: {'username': 'messagebus', 'name': 'dbus-daemon'},\n",
       " 857: {'username': 'root', 'name': 'NetworkManager'},\n",
       " 865: {'username': 'root', 'name': 'irqbalance'},\n",
       " 868: {'username': 'root', 'name': 'networkd-dispat'},\n",
       " 869: {'username': 'root', 'name': 'polkitd'},\n",
       " 871: {'username': 'root', 'name': 'power-profiles-daemon'},\n",
       " 873: {'username': 'syslog', 'name': 'rsyslogd'},\n",
       " 877: {'username': 'root', 'name': 'snapd'},\n",
       " 878: {'username': 'root', 'name': 'switcheroo-control'},\n",
       " 880: {'username': 'root', 'name': 'systemd-logind'},\n",
       " 881: {'username': 'root', 'name': 'thermald'},\n",
       " 882: {'username': 'root', 'name': 'udisksd'},\n",
       " 884: {'username': 'root', 'name': 'wpa_supplicant'},\n",
       " 891: {'username': 'avahi', 'name': 'avahi-daemon'},\n",
       " 914: {'username': 'root', 'name': 'and'},\n",
       " 939: {'username': 'root', 'name': 'ModemManager'},\n",
       " 944: {'username': 'root', 'name': 'cupsd'},\n",
       " 951: {'username': 'root', 'name': 'canonical-livepatchd'},\n",
       " 1033: {'username': 'root', 'name': 'unattended-upgr'},\n",
       " 1650: {'username': 'root', 'name': 'gdm3'},\n",
       " 1655: {'username': 'root', 'name': 'gdm-session-worker'},\n",
       " 1660: {'username': 'searhei', 'name': 'systemd'},\n",
       " 1661: {'username': 'searhei', 'name': '(sd-pam)'},\n",
       " 1668: {'username': 'searhei', 'name': 'pipewire'},\n",
       " 1669: {'username': 'searhei', 'name': 'pipewire-media-session'},\n",
       " 1670: {'username': 'searhei', 'name': 'pulseaudio'},\n",
       " 1673: {'username': 'searhei', 'name': 'ubuntu-report'},\n",
       " 1681: {'username': 'searhei', 'name': 'gnome-keyring-daemon'},\n",
       " 1696: {'username': 'rtkit', 'name': 'rtkit-daemon'},\n",
       " 1700: {'username': 'searhei', 'name': 'gdm-wayland-session'},\n",
       " 1708: {'username': 'searhei', 'name': 'dbus-daemon'},\n",
       " 1714: {'username': 'searhei', 'name': 'xdg-document-portal'},\n",
       " 1715: {'username': 'searhei', 'name': 'gnome-session-binary'},\n",
       " 1732: {'username': 'searhei', 'name': 'gvfsd'},\n",
       " 1741: {'username': 'searhei', 'name': 'xdg-permission-store'},\n",
       " 1756: {'username': 'searhei', 'name': 'gvfsd-fuse'},\n",
       " 1758: {'username': 'searhei', 'name': 'fusermount3'},\n",
       " 1795: {'username': 'searhei', 'name': 'gnome-session-ctl'},\n",
       " 1807: {'username': 'searhei', 'name': 'gnome-session-binary'},\n",
       " 1832: {'username': 'searhei', 'name': 'at-spi-bus-launcher'},\n",
       " 1839: {'username': 'searhei', 'name': 'dbus-daemon'},\n",
       " 1842: {'username': 'searhei', 'name': 'gnome-shell'},\n",
       " 1905: {'username': 'root', 'name': 'krfcommd'},\n",
       " 1916: {'username': 'searhei', 'name': 'gnome-shell-calendar-server'},\n",
       " 1922: {'username': 'searhei', 'name': 'evolution-source-registry'},\n",
       " 1927: {'username': 'root', 'name': 'upowerd'},\n",
       " 1930: {'username': 'searhei', 'name': 'goa-daemon'},\n",
       " 1931: {'username': 'geoclue', 'name': 'geoclue'},\n",
       " 1936: {'username': 'searhei', 'name': 'dconf-service'},\n",
       " 1941: {'username': 'searhei', 'name': 'evolution-calendar-factory'},\n",
       " 1943: {'username': 'searhei', 'name': 'gvfs-udisks2-volume-monitor'},\n",
       " 1953: {'username': 'searhei', 'name': 'goa-identity-service'},\n",
       " 1967: {'username': 'searhei', 'name': 'gvfs-afc-volume-monitor'},\n",
       " 1972: {'username': 'searhei', 'name': 'evolution-addressbook-factory'},\n",
       " 1977: {'username': 'searhei', 'name': 'gvfs-mtp-volume-monitor'},\n",
       " 1986: {'username': 'searhei', 'name': 'gvfs-gphoto2-volume-monitor'},\n",
       " 1992: {'username': 'searhei', 'name': 'gvfs-goa-volume-monitor'},\n",
       " 1999: {'username': 'root', 'name': 'packagekitd'},\n",
       " 2006: {'username': 'searhei', 'name': 'gvfsd-trash'},\n",
       " 2018: {'username': 'searhei', 'name': 'gjs'},\n",
       " 2020: {'username': 'searhei', 'name': 'at-spi2-registryd'},\n",
       " 2031: {'username': 'searhei', 'name': 'sh'},\n",
       " 2032: {'username': 'searhei', 'name': 'gsd-a11y-settings'},\n",
       " 2033: {'username': 'searhei', 'name': 'gsd-color'},\n",
       " 2035: {'username': 'searhei', 'name': 'gsd-datetime'},\n",
       " 2036: {'username': 'searhei', 'name': 'gsd-housekeeping'},\n",
       " 2038: {'username': 'searhei', 'name': 'gsd-keyboard'},\n",
       " 2039: {'username': 'searhei', 'name': 'gsd-media-keys'},\n",
       " 2045: {'username': 'searhei', 'name': 'gsd-power'},\n",
       " 2047: {'username': 'searhei', 'name': 'ibus-daemon'},\n",
       " 2052: {'username': 'searhei', 'name': 'gsd-print-notifications'},\n",
       " 2057: {'username': 'searhei', 'name': 'gsd-rfkill'},\n",
       " 2058: {'username': 'searhei', 'name': 'gsd-screensaver-proxy'},\n",
       " 2059: {'username': 'searhei', 'name': 'gsd-sharing'},\n",
       " 2060: {'username': 'searhei', 'name': 'gsd-smartcard'},\n",
       " 2061: {'username': 'searhei', 'name': 'gsd-sound'},\n",
       " 2062: {'username': 'searhei', 'name': 'gsd-wacom'},\n",
       " 2116: {'username': 'searhei', 'name': 'snapd-desktop-integration'},\n",
       " 2141: {'username': 'searhei', 'name': 'evolution-alarm-notify'},\n",
       " 2146: {'username': 'searhei', 'name': 'ibus-dconf'},\n",
       " 2152: {'username': 'searhei', 'name': 'ibus-extension-gtk3'},\n",
       " 2154: {'username': 'searhei', 'name': 'gsd-disk-utility-notify'},\n",
       " 2190: {'username': 'searhei', 'name': 'ibus-portal'},\n",
       " 2197: {'username': 'searhei', 'name': 'snap-store'},\n",
       " 2284: {'username': 'searhei', 'name': 'gsd-printer'},\n",
       " 2302: {'username': 'searhei', 'name': 'ibus-engine-simple'},\n",
       " 2305: {'username': 'searhei', 'name': 'snapd-desktop-integration'},\n",
       " 2309: {'username': 'searhei', 'name': 'xdg-desktop-portal'},\n",
       " 2314: {'username': 'searhei', 'name': 'xdg-desktop-portal-gnome'},\n",
       " 2411: {'username': 'colord', 'name': 'colord'},\n",
       " 2422: {'username': 'searhei', 'name': 'tracker-miner-fs-3'},\n",
       " 2459: {'username': 'searhei', 'name': 'gjs'},\n",
       " 2489: {'username': 'searhei', 'name': 'xdg-desktop-portal-gtk'},\n",
       " 2581: {'username': 'searhei', 'name': 'gvfsd-metadata'},\n",
       " 3611: {'username': 'root', 'name': 'cups-browsed'},\n",
       " 3613: {'username': 'root', 'name': 'nmbd'},\n",
       " 3615: {'username': 'kernoops', 'name': 'kerneloops'},\n",
       " 3617: {'username': 'kernoops', 'name': 'kerneloops'},\n",
       " 3625: {'username': 'root', 'name': 'smbd'},\n",
       " 3627: {'username': 'root', 'name': 'smbd-notifyd'},\n",
       " 3628: {'username': 'root', 'name': 'cleanupd'},\n",
       " 3629: {'username': 'root', 'name': 'samba-bgqd'},\n",
       " 3637: {'username': 'searhei', 'name': 'update-notifier'},\n",
       " 3794: {'username': 'searhei', 'name': 'deja-dup-monitor'},\n",
       " 3921: {'username': 'searhei', 'name': 'Xwayland'},\n",
       " 4026: {'username': 'searhei', 'name': 'gsd-xsettings'},\n",
       " 4052: {'username': 'searhei', 'name': 'ibus-x11'},\n",
       " 4585: {'username': 'searhei', 'name': 'ssh-agent'},\n",
       " 4765: {'username': 'searhei', 'name': 'deja-dup'},\n",
       " 6362: {'username': 'root', 'name': 'tls-strp'},\n",
       " 8429: {'username': 'searhei', 'name': 'firefox'},\n",
       " 8599: {'username': 'searhei', 'name': 'Socket Process'},\n",
       " 8617: {'username': 'searhei', 'name': 'Privileged Cont'},\n",
       " 8651: {'username': 'searhei', 'name': 'Isolated Web Co'},\n",
       " 8655: {'username': 'searhei', 'name': 'Isolated Web Co'},\n",
       " 8659: {'username': 'searhei', 'name': 'Isolated Web Co'},\n",
       " 8702: {'username': 'searhei', 'name': 'snap'},\n",
       " 8875: {'username': 'searhei', 'name': 'WebExtensions'},\n",
       " 9175: {'username': 'searhei', 'name': 'Utility Process'},\n",
       " 9230: {'username': 'searhei', 'name': 'Isolated Web Co'},\n",
       " 9262: {'username': 'searhei', 'name': 'RDD Process'},\n",
       " 9272: {'username': 'searhei', 'name': 'Isolated Web Co'},\n",
       " 9326: {'username': 'searhei', 'name': 'speech-dispatcher'},\n",
       " 9338: {'username': 'searhei', 'name': 'sd_espeak-ng-mb'},\n",
       " 9342: {'username': 'searhei', 'name': 'sd_espeak-ng'},\n",
       " 9346: {'username': 'searhei', 'name': 'sd_dummy'},\n",
       " 9470: {'username': 'searhei', 'name': 'Isolated Web Co'},\n",
       " 10493: {'username': 'root', 'name': 'kworker/3:0-events'},\n",
       " 10673: {'username': 'searhei', 'name': 'Isolated Web Co'},\n",
       " 10832: {'username': 'root', 'name': 'kworker/2:2-cgroup_destroy'},\n",
       " 12064: {'username': 'root', 'name': 'kworker/1:2-i915-unordered'},\n",
       " 13553: {'username': 'root', 'name': 'kworker/0:0-events'},\n",
       " 13680: {'username': 'searhei', 'name': 'zoom'},\n",
       " 13682: {'username': 'searhei', 'name': 'zoom'},\n",
       " 13693: {'username': 'searhei', 'name': 'zoom'},\n",
       " 13694: {'username': 'searhei', 'name': 'zoom'},\n",
       " 13710: {'username': 'searhei', 'name': 'zoom'},\n",
       " 13727: {'username': 'searhei', 'name': 'zoom'},\n",
       " 13771: {'username': 'searhei', 'name': 'zoom'},\n",
       " 13841: {'username': 'searhei', 'name': 'zoom'},\n",
       " 13849: {'username': 'searhei', 'name': 'zoom'},\n",
       " 13850: {'username': 'searhei', 'name': 'zoom'},\n",
       " 13861: {'username': 'searhei', 'name': 'zoom'},\n",
       " 14982: {'username': 'root', 'name': 'kworker/u17:2-hci0'},\n",
       " 15011: {'username': 'root', 'name': 'khidpd_0a5c4503'},\n",
       " 15062: {'username': 'searhei', 'name': 'gjs'},\n",
       " 15258: {'username': 'root', 'name': 'kworker/u16:0-cfg80211'},\n",
       " 15300: {'username': 'root', 'name': 'kworker/u17:0+i915_flip'},\n",
       " 15349: {'username': 'root', 'name': 'kworker/1:1-events'},\n",
       " 15449: {'username': 'root', 'name': 'kworker/2:0-events'},\n",
       " 15788: {'username': 'root', 'name': 'kworker/u16:1-writeback'},\n",
       " 16057: {'username': 'root', 'name': 'kworker/u16:3-flush-8:0'},\n",
       " 16071: {'username': 'root', 'name': 'kworker/0:2-i915-unordered'},\n",
       " 16083: {'username': 'root', 'name': 'kworker/2:1-events'},\n",
       " 16283: {'username': 'root', 'name': 'kworker/3:2-events'},\n",
       " 16314: {'username': 'root', 'name': 'kworker/1:0-events'},\n",
       " 16315: {'username': 'searhei', 'name': 'Web Content'},\n",
       " 16317: {'username': 'searhei', 'name': 'Web Content'},\n",
       " 16354: {'username': 'searhei', 'name': 'Web Content'},\n",
       " 16409: {'username': 'root', 'name': 'kworker/0:1'},\n",
       " 16410: {'username': 'root', 'name': 'kworker/u17:1-hci0'},\n",
       " 16486: {'username': 'searhei', 'name': 'code'},\n",
       " 16488: {'username': 'searhei', 'name': 'code'},\n",
       " 16489: {'username': 'searhei', 'name': 'code'},\n",
       " 16502: {'username': 'searhei', 'name': 'chrome_crashpad_handler'},\n",
       " 16522: {'username': 'searhei', 'name': 'code'},\n",
       " 16556: {'username': 'searhei', 'name': 'code'},\n",
       " 16593: {'username': 'searhei', 'name': 'code'},\n",
       " 16609: {'username': 'searhei', 'name': 'code'},\n",
       " 16629: {'username': 'searhei', 'name': 'code'},\n",
       " 16782: {'username': 'searhei', 'name': 'code'},\n",
       " 16793: {'username': 'searhei', 'name': 'code'},\n",
       " 16815: {'username': 'searhei', 'name': 'bash'},\n",
       " 16938: {'username': 'searhei', 'name': 'bash'},\n",
       " 16946: {'username': 'searhei', 'name': 'code'},\n",
       " 17036: {'username': 'root', 'name': 'kworker/2:3-cgroup_destroy'},\n",
       " 17069: {'username': 'searhei', 'name': 'python'},\n",
       " 17092: {'username': 'searhei', 'name': 'code'},\n",
       " 17103: {'username': 'searhei', 'name': 'python'}}"
      ]
     },
     "execution_count": 18,
     "metadata": {},
     "output_type": "execute_result"
    }
   ],
   "source": [
    "procs = {p.pid: p.info for p in psutil.process_iter(['name', 'username'])}\n",
    "procs"
   ]
  },
  {
   "cell_type": "code",
   "execution_count": 19,
   "metadata": {},
   "outputs": [
    {
     "data": {
      "text/plain": [
       "1707655986.49"
      ]
     },
     "execution_count": 19,
     "metadata": {},
     "output_type": "execute_result"
    }
   ],
   "source": [
    "p = psutil.Process()\n",
    "\n",
    "p.create_time()"
   ]
  },
  {
   "cell_type": "code",
   "execution_count": 20,
   "metadata": {},
   "outputs": [
    {
     "data": {
      "text/plain": [
       "{'pid': 17069, 'username': 'searhei', 'name': 'python'}"
      ]
     },
     "execution_count": 20,
     "metadata": {},
     "output_type": "execute_result"
    }
   ],
   "source": [
    "p = psutil.Process()\n",
    "\n",
    "p.as_dict(attrs=['pid', 'name', 'username'])"
   ]
  },
  {
   "cell_type": "code",
   "execution_count": 21,
   "metadata": {},
   "outputs": [
    {
     "data": {
      "text/plain": [
       "[suser(name='searhei', terminal='tty2', host='localhost', started=1707641341.0, pid=1700)]"
      ]
     },
     "execution_count": 21,
     "metadata": {},
     "output_type": "execute_result"
    }
   ],
   "source": [
    "psutil.users()"
   ]
  }
 ],
 "metadata": {
  "kernelspec": {
   "display_name": ".venv",
   "language": "python",
   "name": "python3"
  },
  "language_info": {
   "codemirror_mode": {
    "name": "ipython",
    "version": 3
   },
   "file_extension": ".py",
   "mimetype": "text/x-python",
   "name": "python",
   "nbconvert_exporter": "python",
   "pygments_lexer": "ipython3",
   "version": "3.10.12"
  }
 },
 "nbformat": 4,
 "nbformat_minor": 2
}
