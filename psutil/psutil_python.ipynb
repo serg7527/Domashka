{
 "cells": [
  {
   "cell_type": "code",
   "execution_count": 3,
   "metadata": {},
   "outputs": [],
   "source": [
    "import psutil"
   ]
  },
  {
   "cell_type": "code",
   "execution_count": 2,
   "metadata": {},
   "outputs": [
    {
     "data": {
      "text/plain": [
       "[scputimes(user=1.2, nice=18.8, system=4.2, idle=75.3, iowait=0.2, irq=0.0, softirq=0.2, steal=0.0, guest=0.0, guest_nice=0.0),\n",
       " scputimes(user=0.9, nice=18.0, system=4.4, idle=73.6, iowait=0.1, irq=0.0, softirq=3.0, steal=0.0, guest=0.0, guest_nice=0.0),\n",
       " scputimes(user=0.7, nice=20.5, system=4.2, idle=74.3, iowait=0.0, irq=0.0, softirq=0.2, steal=0.0, guest=0.0, guest_nice=0.0),\n",
       " scputimes(user=1.1, nice=20.4, system=4.7, idle=73.3, iowait=0.1, irq=0.0, softirq=0.4, steal=0.0, guest=0.0, guest_nice=0.0)]"
      ]
     },
     "execution_count": 2,
     "metadata": {},
     "output_type": "execute_result"
    }
   ],
   "source": [
    "psutil.cpu_times_percent(interval=10, percpu=True)"
   ]
  },
  {
   "cell_type": "code",
   "execution_count": 4,
   "metadata": {},
   "outputs": [
    {
     "data": {
      "text/plain": [
       "[23.4, 21.3, 23.3, 21.3]"
      ]
     },
     "execution_count": 4,
     "metadata": {},
     "output_type": "execute_result"
    }
   ],
   "source": [
    "psutil.cpu_percent(interval=10, percpu=True)"
   ]
  },
  {
   "cell_type": "code",
   "execution_count": 5,
   "metadata": {},
   "outputs": [
    {
     "data": {
      "text/plain": [
       "[scputimes(user=1.2, nice=14.4, system=3.6, idle=79.2, iowait=0.2, irq=0.0, softirq=1.4, steal=0.0, guest=0.0, guest_nice=0.0),\n",
       " scputimes(user=1.3, nice=14.0, system=3.3, idle=78.5, iowait=0.1, irq=0.0, softirq=2.8, steal=0.0, guest=0.0, guest_nice=0.0),\n",
       " scputimes(user=0.8, nice=18.0, system=2.9, idle=77.9, iowait=0.1, irq=0.0, softirq=0.3, steal=0.0, guest=0.0, guest_nice=0.0),\n",
       " scputimes(user=1.8, nice=13.0, system=2.8, idle=80.1, iowait=0.2, irq=0.0, softirq=2.1, steal=0.0, guest=0.0, guest_nice=0.0)]"
      ]
     },
     "execution_count": 5,
     "metadata": {},
     "output_type": "execute_result"
    }
   ],
   "source": [
    "psutil.cpu_times_percent(interval=10, percpu=True)"
   ]
  },
  {
   "cell_type": "code",
   "execution_count": 6,
   "metadata": {},
   "outputs": [
    {
     "data": {
      "text/plain": [
       "4"
      ]
     },
     "execution_count": 6,
     "metadata": {},
     "output_type": "execute_result"
    }
   ],
   "source": [
    "psutil.cpu_count(logical=True)"
   ]
  },
  {
   "cell_type": "code",
   "execution_count": 6,
   "metadata": {},
   "outputs": [
    {
     "data": {
      "text/plain": [
       "2"
      ]
     },
     "execution_count": 6,
     "metadata": {},
     "output_type": "execute_result"
    }
   ],
   "source": [
    "psutil.cpu_count(logical=False)"
   ]
  },
  {
   "cell_type": "code",
   "execution_count": 8,
   "metadata": {},
   "outputs": [
    {
     "data": {
      "text/plain": [
       "(1.3740234375, 1.15234375, 1.09326171875)"
      ]
     },
     "execution_count": 8,
     "metadata": {},
     "output_type": "execute_result"
    }
   ],
   "source": [
    "psutil.getloadavg()"
   ]
  },
  {
   "cell_type": "code",
   "execution_count": 9,
   "metadata": {},
   "outputs": [
    {
     "data": {
      "text/plain": [
       "[scpufreq(current=2860.799, min=1200.0, max=3100.0),\n",
       " scpufreq(current=2847.964, min=1200.0, max=3100.0),\n",
       " scpufreq(current=2896.558, min=1200.0, max=3100.0),\n",
       " scpufreq(current=2894.829, min=1200.0, max=3100.0)]"
      ]
     },
     "execution_count": 9,
     "metadata": {},
     "output_type": "execute_result"
    }
   ],
   "source": [
    "psutil.cpu_freq(percpu=True)"
   ]
  },
  {
   "cell_type": "code",
   "execution_count": 10,
   "metadata": {},
   "outputs": [
    {
     "data": {
      "text/plain": [
       "1707406128.0"
      ]
     },
     "execution_count": 10,
     "metadata": {},
     "output_type": "execute_result"
    }
   ],
   "source": [
    "psutil.boot_time()"
   ]
  },
  {
   "cell_type": "code",
   "execution_count": 11,
   "metadata": {},
   "outputs": [
    {
     "data": {
      "text/plain": [
       "svmem(total=16647700480, available=13110132736, percent=21.2, used=2735767552, free=10295693312, active=3712548864, inactive=1782136832, buffers=169680896, cached=3446558720, shared=463892480, slab=335917056)"
      ]
     },
     "execution_count": 11,
     "metadata": {},
     "output_type": "execute_result"
    }
   ],
   "source": [
    "psutil.virtual_memory()"
   ]
  },
  {
   "cell_type": "code",
   "execution_count": 12,
   "metadata": {},
   "outputs": [],
   "source": [
    "import psutil\n",
    "mem = psutil.virtual_memory()\n",
    "mem\n",
    "THRESHOLD = 10000 * 1366 * 768  # 100MB\n",
    "if mem.available <= THRESHOLD:\n",
    "    print(\"warning\")"
   ]
  },
  {
   "cell_type": "code",
   "execution_count": 13,
   "metadata": {},
   "outputs": [
    {
     "data": {
      "text/plain": [
       "svmem(total=16647700480, available=13117988864, percent=21.2, used=2750119936, free=10303434752, active=3702775808, inactive=1767100416, buffers=169779200, cached=3424366592, shared=441675776, slab=335941632)"
      ]
     },
     "execution_count": 13,
     "metadata": {},
     "output_type": "execute_result"
    }
   ],
   "source": [
    "import psutil\n",
    "mem = psutil.virtual_memory()\n",
    "mem"
   ]
  },
  {
   "cell_type": "code",
   "execution_count": 14,
   "metadata": {},
   "outputs": [
    {
     "data": {
      "text/plain": [
       "{'lo': snicstats(isup=True, duplex=<NicDuplex.NIC_DUPLEX_UNKNOWN: 0>, speed=0, mtu=65536, flags='up,loopback,running'),\n",
       " 'enp2s0f0': snicstats(isup=True, duplex=<NicDuplex.NIC_DUPLEX_FULL: 2>, speed=1000, mtu=1500, flags='up,broadcast,running,multicast'),\n",
       " 'wlp3s0': snicstats(isup=False, duplex=<NicDuplex.NIC_DUPLEX_UNKNOWN: 0>, speed=0, mtu=1500, flags='up,broadcast,multicast')}"
      ]
     },
     "execution_count": 14,
     "metadata": {},
     "output_type": "execute_result"
    }
   ],
   "source": [
    "psutil.net_if_stats()"
   ]
  },
  {
   "cell_type": "code",
   "execution_count": 16,
   "metadata": {},
   "outputs": [
    {
     "name": "stdout",
     "output_type": "stream",
     "text": [
      "lo:\n",
      "    stats          : speed=0MB, duplex=?, mtu=65536, up=yes\n",
      "    incoming       : bytes=3.1M, pkts=12358, errs=0, drops=0\n",
      "    outgoing       : bytes=3.1M, pkts=12358, errs=0, drops=0\n",
      "    IPv4 address   : 127.0.0.1\n",
      "         netmask   : 255.0.0.0\n",
      "    IPv6 address   : ::1\n",
      "         netmask   : ffff:ffff:ffff:ffff:ffff:ffff:ffff:ffff\n",
      "    MAC  address   : 00:00:00:00:00:00\n",
      "\n",
      "enp2s0f0:\n",
      "    stats          : speed=1000MB, duplex=full, mtu=1500, up=yes\n",
      "    incoming       : bytes=39.6M, pkts=53226, errs=0, drops=0\n",
      "    outgoing       : bytes=16.8M, pkts=43414, errs=0, drops=0\n",
      "    IPv4 address   : 192.168.0.196\n",
      "         broadcast : 192.168.0.255\n",
      "         netmask   : 255.255.255.0\n",
      "    IPv6 address   : fd01::1584:be98:a514:ecee\n",
      "         netmask   : ffff:ffff:ffff:ffff::\n",
      "    IPv6 address   : fd01::6058:90f3:f570:2953\n",
      "         netmask   : ffff:ffff:ffff:ffff::\n",
      "    IPv6 address   : fe80::9e0a:17c4:83a2:791c%enp2s0f0\n",
      "         netmask   : ffff:ffff:ffff:ffff::\n",
      "    MAC  address   : b8:88:e3:09:73:d5\n",
      "         broadcast : ff:ff:ff:ff:ff:ff\n",
      "\n",
      "wlp3s0:\n",
      "    stats          : speed=0MB, duplex=?, mtu=1500, up=yes\n",
      "    incoming       : bytes=452.7K, pkts=3276, errs=0, drops=0\n",
      "    outgoing       : bytes=969.5K, pkts=5563, errs=0, drops=0\n",
      "    IPv6 address   : fe80::8301:1e1d:3139:ac16%wlp3s0\n",
      "         netmask   : ffff:ffff:ffff:ffff::\n",
      "    MAC  address   : 08:ed:b9:ee:16:7f\n",
      "         broadcast : ff:ff:ff:ff:ff:ff\n",
      "\n"
     ]
    }
   ],
   "source": [
    "import socket\n",
    "import psutil\n",
    "from psutil._common import bytes2human\n",
    "\n",
    "af_map = {\n",
    "    socket.AF_INET: 'IPv4',\n",
    "    socket.AF_INET6: 'IPv6',\n",
    "    psutil.AF_LINK: 'MAC',\n",
    "}\n",
    "\n",
    "duplex_map = {\n",
    "    psutil.NIC_DUPLEX_FULL: \"full\",\n",
    "    psutil.NIC_DUPLEX_HALF: \"half\",\n",
    "    psutil.NIC_DUPLEX_UNKNOWN: \"?\",\n",
    "}\n",
    "\n",
    "def main():\n",
    "    stats = psutil.net_if_stats()\n",
    "    io_counters = psutil.net_io_counters(pernic=True)\n",
    "    for nic, addrs in psutil.net_if_addrs().items():\n",
    "        print(\"%s:\" % (nic))\n",
    "        if nic in stats:\n",
    "            st = stats[nic]\n",
    "            print(\"    stats          : \", end='')\n",
    "            print(\"speed=%sMB, duplex=%s, mtu=%s, up=%s\" % (\n",
    "                st.speed, duplex_map[st.duplex], st.mtu,\n",
    "                \"yes\" if st.isup else \"no\"))\n",
    "        if nic in io_counters:\n",
    "            io = io_counters[nic]\n",
    "            print(\"    incoming       : \", end='')\n",
    "            print(\"bytes=%s, pkts=%s, errs=%s, drops=%s\" % (\n",
    "                bytes2human(io.bytes_recv), io.packets_recv, io.errin,\n",
    "                io.dropin))\n",
    "            print(\"    outgoing       : \", end='')\n",
    "            print(\"bytes=%s, pkts=%s, errs=%s, drops=%s\" % (\n",
    "                bytes2human(io.bytes_sent), io.packets_sent, io.errout,\n",
    "                io.dropout))\n",
    "        for addr in addrs:\n",
    "            print(\"    %-4s\" % af_map.get(addr.family, addr.family), end=\"\")\n",
    "            print(\" address   : %s\" % addr.address)\n",
    "            if addr.broadcast:\n",
    "                print(\"         broadcast : %s\" % addr.broadcast)\n",
    "            if addr.netmask:\n",
    "                print(\"         netmask   : %s\" % addr.netmask)\n",
    "            if addr.ptp:\n",
    "                print(\"      p2p       : %s\" % addr.ptp)\n",
    "        print(\"\")\n",
    "\n",
    "if __name__ == '__main__':\n",
    "    main()\n"
   ]
  },
  {
   "cell_type": "code",
   "execution_count": 17,
   "metadata": {},
   "outputs": [
    {
     "data": {
      "text/plain": [
       "{'lo': [snicaddr(family=<AddressFamily.AF_INET: 2>, address='127.0.0.1', netmask='255.0.0.0', broadcast=None, ptp=None),\n",
       "  snicaddr(family=<AddressFamily.AF_INET6: 10>, address='::1', netmask='ffff:ffff:ffff:ffff:ffff:ffff:ffff:ffff', broadcast=None, ptp=None),\n",
       "  snicaddr(family=<AddressFamily.AF_PACKET: 17>, address='00:00:00:00:00:00', netmask=None, broadcast=None, ptp=None)],\n",
       " 'enp2s0f0': [snicaddr(family=<AddressFamily.AF_INET: 2>, address='192.168.0.196', netmask='255.255.255.0', broadcast='192.168.0.255', ptp=None),\n",
       "  snicaddr(family=<AddressFamily.AF_INET6: 10>, address='fd01::1584:be98:a514:ecee', netmask='ffff:ffff:ffff:ffff::', broadcast=None, ptp=None),\n",
       "  snicaddr(family=<AddressFamily.AF_INET6: 10>, address='fd01::6058:90f3:f570:2953', netmask='ffff:ffff:ffff:ffff::', broadcast=None, ptp=None),\n",
       "  snicaddr(family=<AddressFamily.AF_INET6: 10>, address='fe80::9e0a:17c4:83a2:791c%enp2s0f0', netmask='ffff:ffff:ffff:ffff::', broadcast=None, ptp=None),\n",
       "  snicaddr(family=<AddressFamily.AF_PACKET: 17>, address='b8:88:e3:09:73:d5', netmask=None, broadcast='ff:ff:ff:ff:ff:ff', ptp=None)],\n",
       " 'wlp3s0': [snicaddr(family=<AddressFamily.AF_INET6: 10>, address='fe80::8301:1e1d:3139:ac16%wlp3s0', netmask='ffff:ffff:ffff:ffff::', broadcast=None, ptp=None),\n",
       "  snicaddr(family=<AddressFamily.AF_PACKET: 17>, address='08:ed:b9:ee:16:7f', netmask=None, broadcast='ff:ff:ff:ff:ff:ff', ptp=None)]}"
      ]
     },
     "execution_count": 17,
     "metadata": {},
     "output_type": "execute_result"
    }
   ],
   "source": [
    "psutil.net_if_addrs()"
   ]
  },
  {
   "cell_type": "code",
   "execution_count": 20,
   "metadata": {},
   "outputs": [
    {
     "name": "stdout",
     "output_type": "stream",
     "text": [
      "{'username': 'root', 'name': 'systemd', 'pid': 1}\n",
      "{'username': 'root', 'name': 'kthreadd', 'pid': 2}\n",
      "{'username': 'root', 'name': 'rcu_gp', 'pid': 3}\n",
      "{'username': 'root', 'name': 'rcu_par_gp', 'pid': 4}\n",
      "{'username': 'root', 'name': 'slub_flushwq', 'pid': 5}\n",
      "{'username': 'root', 'name': 'netns', 'pid': 6}\n",
      "{'username': 'root', 'name': 'kworker/0:0H-events_highpri', 'pid': 8}\n",
      "{'username': 'root', 'name': 'kworker/0:1-inet_frag_wq', 'pid': 9}\n",
      "{'username': 'root', 'name': 'mm_percpu_wq', 'pid': 11}\n",
      "{'username': 'root', 'name': 'rcu_tasks_kthread', 'pid': 12}\n",
      "{'username': 'root', 'name': 'rcu_tasks_rude_kthread', 'pid': 13}\n",
      "{'username': 'root', 'name': 'rcu_tasks_trace_kthread', 'pid': 14}\n",
      "{'username': 'root', 'name': 'ksoftirqd/0', 'pid': 15}\n",
      "{'username': 'root', 'name': 'rcu_preempt', 'pid': 16}\n",
      "{'username': 'root', 'name': 'migration/0', 'pid': 17}\n",
      "{'username': 'root', 'name': 'idle_inject/0', 'pid': 18}\n",
      "{'username': 'root', 'name': 'cpuhp/0', 'pid': 19}\n",
      "{'username': 'root', 'name': 'cpuhp/2', 'pid': 20}\n",
      "{'username': 'root', 'name': 'idle_inject/2', 'pid': 21}\n",
      "{'username': 'root', 'name': 'migration/2', 'pid': 22}\n",
      "{'username': 'root', 'name': 'ksoftirqd/2', 'pid': 23}\n",
      "{'username': 'root', 'name': 'kworker/2:0H-events_highpri', 'pid': 25}\n",
      "{'username': 'root', 'name': 'cpuhp/1', 'pid': 26}\n",
      "{'username': 'root', 'name': 'idle_inject/1', 'pid': 27}\n",
      "{'username': 'root', 'name': 'migration/1', 'pid': 28}\n",
      "{'username': 'root', 'name': 'ksoftirqd/1', 'pid': 29}\n",
      "{'username': 'root', 'name': 'kworker/1:0H-events_highpri', 'pid': 31}\n",
      "{'username': 'root', 'name': 'cpuhp/3', 'pid': 32}\n",
      "{'username': 'root', 'name': 'idle_inject/3', 'pid': 33}\n",
      "{'username': 'root', 'name': 'migration/3', 'pid': 34}\n",
      "{'username': 'root', 'name': 'ksoftirqd/3', 'pid': 35}\n",
      "{'username': 'root', 'name': 'kdevtmpfs', 'pid': 38}\n",
      "{'username': 'root', 'name': 'inet_frag_wq', 'pid': 39}\n",
      "{'username': 'root', 'name': 'kauditd', 'pid': 41}\n",
      "{'username': 'root', 'name': 'khungtaskd', 'pid': 42}\n",
      "{'username': 'root', 'name': 'oom_reaper', 'pid': 43}\n",
      "{'username': 'root', 'name': 'writeback', 'pid': 45}\n",
      "{'username': 'root', 'name': 'kcompactd0', 'pid': 46}\n",
      "{'username': 'root', 'name': 'ksmd', 'pid': 47}\n",
      "{'username': 'root', 'name': 'khugepaged', 'pid': 48}\n",
      "{'username': 'root', 'name': 'kintegrityd', 'pid': 49}\n",
      "{'username': 'root', 'name': 'kblockd', 'pid': 50}\n",
      "{'username': 'root', 'name': 'blkcg_punt_bio', 'pid': 51}\n",
      "{'username': 'root', 'name': 'tpm_dev_wq', 'pid': 54}\n",
      "{'username': 'root', 'name': 'ata_sff', 'pid': 55}\n",
      "{'username': 'root', 'name': 'md', 'pid': 56}\n",
      "{'username': 'root', 'name': 'md_bitmap', 'pid': 57}\n",
      "{'username': 'root', 'name': 'edac-poller', 'pid': 58}\n",
      "{'username': 'root', 'name': 'devfreq_wq', 'pid': 59}\n",
      "{'username': 'root', 'name': 'watchdogd', 'pid': 60}\n",
      "{'username': 'root', 'name': 'kworker/2:1-i915-unordered', 'pid': 61}\n",
      "{'username': 'root', 'name': 'kworker/2:1H-kblockd', 'pid': 62}\n",
      "{'username': 'root', 'name': 'kswapd0', 'pid': 63}\n",
      "{'username': 'root', 'name': 'ecryptfs-kthread', 'pid': 64}\n",
      "{'username': 'root', 'name': 'kthrotld', 'pid': 65}\n",
      "{'username': 'root', 'name': 'acpi_thermal_pm', 'pid': 66}\n",
      "{'username': 'root', 'name': 'mld', 'pid': 71}\n",
      "{'username': 'root', 'name': 'ipv6_addrconf', 'pid': 72}\n",
      "{'username': 'root', 'name': 'kstrp', 'pid': 81}\n",
      "{'username': 'root', 'name': 'kworker/u17:0-i915_flip', 'pid': 83}\n",
      "{'username': 'root', 'name': 'charger_manager', 'pid': 87}\n",
      "{'username': 'root', 'name': 'kworker/1:1H-events_highpri', 'pid': 109}\n",
      "{'username': 'root', 'name': 'kworker/0:1H-events_highpri', 'pid': 116}\n",
      "{'username': 'root', 'name': 'kworker/3:1H-events_highpri', 'pid': 126}\n",
      "{'username': 'root', 'name': 'sdhci', 'pid': 139}\n",
      "{'username': 'root', 'name': 'irq/17-mmc0', 'pid': 140}\n",
      "{'username': 'root', 'name': 'scsi_eh_0', 'pid': 157}\n",
      "{'username': 'root', 'name': 'scsi_tmf_0', 'pid': 158}\n",
      "{'username': 'root', 'name': 'scsi_eh_1', 'pid': 159}\n",
      "{'username': 'root', 'name': 'scsi_tmf_1', 'pid': 160}\n",
      "{'username': 'root', 'name': 'scsi_eh_2', 'pid': 161}\n",
      "{'username': 'root', 'name': 'scsi_tmf_2', 'pid': 162}\n",
      "{'username': 'root', 'name': 'scsi_eh_3', 'pid': 163}\n",
      "{'username': 'root', 'name': 'scsi_tmf_3', 'pid': 164}\n",
      "{'username': 'root', 'name': 'scsi_eh_4', 'pid': 165}\n",
      "{'username': 'root', 'name': 'scsi_tmf_4', 'pid': 166}\n",
      "{'username': 'root', 'name': 'scsi_eh_5', 'pid': 167}\n",
      "{'username': 'root', 'name': 'scsi_tmf_5', 'pid': 168}\n",
      "{'username': 'root', 'name': 'jbd2/sda9-8', 'pid': 192}\n",
      "{'username': 'root', 'name': 'ext4-rsv-conver', 'pid': 193}\n",
      "{'username': 'root', 'name': 'systemd-journald', 'pid': 234}\n",
      "{'username': 'root', 'name': 'systemd-udevd', 'pid': 298}\n",
      "{'username': 'root', 'name': 'irq/27-mei_me', 'pid': 335}\n",
      "{'username': 'root', 'name': 'cfg80211', 'pid': 357}\n",
      "{'username': 'root', 'name': 'kworker/3:2H-kblockd', 'pid': 400}\n",
      "{'username': 'root', 'name': 'nvkm-disp', 'pid': 407}\n",
      "{'username': 'root', 'name': 'wl_event_handler', 'pid': 409}\n",
      "{'username': 'root', 'name': 'ttm', 'pid': 410}\n",
      "{'username': 'root', 'name': 'card0-crtc0', 'pid': 411}\n",
      "{'username': 'root', 'name': 'card0-crtc1', 'pid': 412}\n",
      "{'username': 'root', 'name': 'ttm', 'pid': 413}\n",
      "{'username': 'root', 'name': 'card1-crtc0', 'pid': 414}\n",
      "{'username': 'root', 'name': 'card1-crtc1', 'pid': 415}\n",
      "{'username': 'root', 'name': 'card1-crtc2', 'pid': 416}\n",
      "{'username': 'root', 'name': 'mount.ntfs', 'pid': 442}\n",
      "{'username': 'root', 'name': 'cryptd', 'pid': 576}\n",
      "{'username': 'root', 'name': 'kworker/u17:2-i915_flip', 'pid': 626}\n",
      "{'username': 'root', 'name': 'jbd2/sda6-8', 'pid': 691}\n",
      "{'username': 'root', 'name': 'ext4-rsv-conver', 'pid': 692}\n",
      "{'username': 'root', 'name': 'jbd2/sda7-8', 'pid': 699}\n",
      "{'username': 'root', 'name': 'ext4-rsv-conver', 'pid': 701}\n",
      "{'username': 'root', 'name': 'mount.ntfs', 'pid': 704}\n",
      "{'username': 'root', 'name': 'mount.ntfs', 'pid': 708}\n",
      "{'username': 'systemd-oom', 'name': 'systemd-oomd', 'pid': 753}\n",
      "{'username': 'systemd-resolve', 'name': 'systemd-resolved', 'pid': 756}\n",
      "{'username': 'systemd-timesync', 'name': 'systemd-timesyncd', 'pid': 759}\n",
      "{'username': 'root', 'name': 'accounts-daemon', 'pid': 843}\n",
      "{'username': 'root', 'name': 'acpid', 'pid': 844}\n",
      "{'username': 'avahi', 'name': 'avahi-daemon', 'pid': 849}\n",
      "{'username': 'root', 'name': 'bluetoothd', 'pid': 851}\n",
      "{'username': 'root', 'name': 'cron', 'pid': 854}\n",
      "{'username': 'messagebus', 'name': 'dbus-daemon', 'pid': 855}\n",
      "{'username': 'root', 'name': 'NetworkManager', 'pid': 856}\n",
      "{'username': 'root', 'name': 'irqbalance', 'pid': 862}\n",
      "{'username': 'root', 'name': 'networkd-dispat', 'pid': 863}\n",
      "{'username': 'root', 'name': 'polkitd', 'pid': 864}\n",
      "{'username': 'root', 'name': 'power-profiles-daemon', 'pid': 866}\n",
      "{'username': 'syslog', 'name': 'rsyslogd', 'pid': 868}\n",
      "{'username': 'root', 'name': 'snapd', 'pid': 870}\n",
      "{'username': 'root', 'name': 'switcheroo-control', 'pid': 872}\n",
      "{'username': 'root', 'name': 'systemd-logind', 'pid': 876}\n",
      "{'username': 'root', 'name': 'thermald', 'pid': 878}\n",
      "{'username': 'root', 'name': 'udisksd', 'pid': 880}\n",
      "{'username': 'root', 'name': 'wpa_supplicant', 'pid': 881}\n",
      "{'username': 'avahi', 'name': 'avahi-daemon', 'pid': 890}\n",
      "{'username': 'root', 'name': 'and', 'pid': 920}\n",
      "{'username': 'root', 'name': 'ModemManager', 'pid': 932}\n",
      "{'username': 'root', 'name': 'canonical-livepatchd', 'pid': 956}\n",
      "{'username': 'root', 'name': 'cupsd', 'pid': 1039}\n",
      "{'username': 'root', 'name': 'unattended-upgr', 'pid': 1094}\n",
      "{'username': 'root', 'name': 'gdm3', 'pid': 1664}\n",
      "{'username': 'root', 'name': 'gdm-session-worker', 'pid': 1669}\n",
      "{'username': 'searhei', 'name': 'systemd', 'pid': 1674}\n",
      "{'username': 'searhei', 'name': '(sd-pam)', 'pid': 1675}\n",
      "{'username': 'searhei', 'name': 'pipewire', 'pid': 1682}\n",
      "{'username': 'searhei', 'name': 'pipewire-media-session', 'pid': 1683}\n",
      "{'username': 'searhei', 'name': 'pulseaudio', 'pid': 1684}\n",
      "{'username': 'searhei', 'name': 'ubuntu-report', 'pid': 1687}\n",
      "{'username': 'searhei', 'name': 'gnome-keyring-daemon', 'pid': 1705}\n",
      "{'username': 'rtkit', 'name': 'rtkit-daemon', 'pid': 1708}\n",
      "{'username': 'searhei', 'name': 'gdm-wayland-session', 'pid': 1712}\n",
      "{'username': 'searhei', 'name': 'dbus-daemon', 'pid': 1722}\n",
      "{'username': 'searhei', 'name': 'gnome-session-binary', 'pid': 1729}\n",
      "{'username': 'searhei', 'name': 'xdg-document-portal', 'pid': 1730}\n",
      "{'username': 'searhei', 'name': 'gvfsd', 'pid': 1746}\n",
      "{'username': 'searhei', 'name': 'xdg-permission-store', 'pid': 1756}\n",
      "{'username': 'searhei', 'name': 'gvfsd-fuse', 'pid': 1770}\n",
      "{'username': 'searhei', 'name': 'fusermount3', 'pid': 1773}\n",
      "{'username': 'searhei', 'name': 'gnome-session-ctl', 'pid': 1809}\n",
      "{'username': 'searhei', 'name': 'gnome-session-binary', 'pid': 1821}\n",
      "{'username': 'searhei', 'name': 'at-spi-bus-launcher', 'pid': 1845}\n",
      "{'username': 'searhei', 'name': 'dbus-daemon', 'pid': 1851}\n",
      "{'username': 'searhei', 'name': 'gnome-shell', 'pid': 1855}\n",
      "{'username': 'root', 'name': 'krfcommd', 'pid': 1919}\n",
      "{'username': 'searhei', 'name': 'gnome-shell-calendar-server', 'pid': 1930}\n",
      "{'username': 'searhei', 'name': 'evolution-source-registry', 'pid': 1936}\n",
      "{'username': 'root', 'name': 'upowerd', 'pid': 1941}\n",
      "{'username': 'searhei', 'name': 'goa-daemon', 'pid': 1944}\n",
      "{'username': 'geoclue', 'name': 'geoclue', 'pid': 1946}\n",
      "{'username': 'searhei', 'name': 'dconf-service', 'pid': 1951}\n",
      "{'username': 'searhei', 'name': 'evolution-calendar-factory', 'pid': 1952}\n",
      "{'username': 'searhei', 'name': 'gvfs-udisks2-volume-monitor', 'pid': 1958}\n",
      "{'username': 'searhei', 'name': 'goa-identity-service', 'pid': 1968}\n",
      "{'username': 'searhei', 'name': 'evolution-addressbook-factory', 'pid': 1985}\n",
      "{'username': 'searhei', 'name': 'gvfs-afc-volume-monitor', 'pid': 1989}\n",
      "{'username': 'searhei', 'name': 'gvfs-mtp-volume-monitor', 'pid': 1994}\n",
      "{'username': 'searhei', 'name': 'gvfs-gphoto2-volume-monitor', 'pid': 2003}\n",
      "{'username': 'searhei', 'name': 'gvfs-goa-volume-monitor', 'pid': 2009}\n",
      "{'username': 'root', 'name': 'packagekitd', 'pid': 2016}\n",
      "{'username': 'searhei', 'name': 'gvfsd-trash', 'pid': 2023}\n",
      "{'username': 'searhei', 'name': 'gjs', 'pid': 2036}\n",
      "{'username': 'searhei', 'name': 'at-spi2-registryd', 'pid': 2038}\n",
      "{'username': 'searhei', 'name': 'sh', 'pid': 2049}\n",
      "{'username': 'searhei', 'name': 'gsd-a11y-settings', 'pid': 2050}\n",
      "{'username': 'searhei', 'name': 'ibus-daemon', 'pid': 2055}\n",
      "{'username': 'searhei', 'name': 'gsd-color', 'pid': 2057}\n",
      "{'username': 'searhei', 'name': 'gsd-datetime', 'pid': 2059}\n",
      "{'username': 'searhei', 'name': 'gsd-housekeeping', 'pid': 2060}\n",
      "{'username': 'searhei', 'name': 'gsd-keyboard', 'pid': 2063}\n",
      "{'username': 'searhei', 'name': 'gsd-media-keys', 'pid': 2064}\n",
      "{'username': 'searhei', 'name': 'gsd-power', 'pid': 2065}\n",
      "{'username': 'searhei', 'name': 'gsd-print-notifications', 'pid': 2066}\n",
      "{'username': 'searhei', 'name': 'gsd-rfkill', 'pid': 2067}\n",
      "{'username': 'searhei', 'name': 'gsd-screensaver-proxy', 'pid': 2068}\n",
      "{'username': 'searhei', 'name': 'gsd-sharing', 'pid': 2073}\n",
      "{'username': 'searhei', 'name': 'gsd-smartcard', 'pid': 2074}\n",
      "{'username': 'searhei', 'name': 'gsd-sound', 'pid': 2077}\n",
      "{'username': 'searhei', 'name': 'gsd-wacom', 'pid': 2082}\n",
      "{'username': 'searhei', 'name': 'ibus-dconf', 'pid': 2128}\n",
      "{'username': 'searhei', 'name': 'evolution-alarm-notify', 'pid': 2130}\n",
      "{'username': 'searhei', 'name': 'ibus-extension-gtk3', 'pid': 2137}\n",
      "{'username': 'searhei', 'name': 'ibus-portal', 'pid': 2141}\n",
      "{'username': 'searhei', 'name': 'gsd-disk-utility-notify', 'pid': 2150}\n",
      "{'username': 'searhei', 'name': 'snapd-desktop-integration', 'pid': 2170}\n",
      "{'username': 'searhei', 'name': 'snap-store', 'pid': 2212}\n",
      "{'username': 'searhei', 'name': 'gsd-printer', 'pid': 2277}\n",
      "{'username': 'searhei', 'name': 'ibus-engine-simple', 'pid': 2289}\n",
      "{'username': 'searhei', 'name': 'snapd-desktop-integration', 'pid': 2317}\n",
      "{'username': 'searhei', 'name': 'xdg-desktop-portal', 'pid': 2321}\n",
      "{'username': 'searhei', 'name': 'xdg-desktop-portal-gnome', 'pid': 2332}\n",
      "{'username': 'colord', 'name': 'colord', 'pid': 2432}\n",
      "{'username': 'searhei', 'name': 'tracker-miner-fs-3', 'pid': 2433}\n",
      "{'username': 'searhei', 'name': 'gjs', 'pid': 2478}\n",
      "{'username': 'searhei', 'name': 'xdg-desktop-portal-gtk', 'pid': 2505}\n",
      "{'username': 'searhei', 'name': 'gvfsd-metadata', 'pid': 2597}\n",
      "{'username': 'root', 'name': 'cups-browsed', 'pid': 3632}\n",
      "{'username': 'root', 'name': 'nmbd', 'pid': 3634}\n",
      "{'username': 'kernoops', 'name': 'kerneloops', 'pid': 3636}\n",
      "{'username': 'kernoops', 'name': 'kerneloops', 'pid': 3638}\n",
      "{'username': 'root', 'name': 'smbd', 'pid': 3646}\n",
      "{'username': 'root', 'name': 'smbd-notifyd', 'pid': 3648}\n",
      "{'username': 'root', 'name': 'cleanupd', 'pid': 3649}\n",
      "{'username': 'root', 'name': 'samba-bgqd', 'pid': 3650}\n",
      "{'username': 'searhei', 'name': 'update-notifier', 'pid': 3659}\n",
      "{'username': 'searhei', 'name': 'Xwayland', 'pid': 3993}\n",
      "{'username': 'searhei', 'name': 'gsd-xsettings', 'pid': 4022}\n",
      "{'username': 'searhei', 'name': 'ibus-x11', 'pid': 4075}\n",
      "{'username': 'searhei', 'name': 'deja-dup-monitor', 'pid': 4606}\n",
      "{'username': 'searhei', 'name': 'ssh-agent', 'pid': 4644}\n",
      "{'username': 'searhei', 'name': 'deja-dup', 'pid': 4775}\n",
      "{'username': 'root', 'name': 'tls-strp', 'pid': 5184}\n",
      "{'username': 'searhei', 'name': 'gjs', 'pid': 6013}\n",
      "{'username': 'root', 'name': 'kworker/u16:3-events_power_efficient', 'pid': 6434}\n",
      "{'username': 'root', 'name': 'kworker/u16:2-events_power_efficient', 'pid': 6530}\n",
      "{'username': 'searhei', 'name': 'code', 'pid': 6746}\n",
      "{'username': 'searhei', 'name': 'code', 'pid': 6748}\n",
      "{'username': 'searhei', 'name': 'code', 'pid': 6749}\n",
      "{'username': 'searhei', 'name': 'chrome_crashpad_handler', 'pid': 6762}\n",
      "{'username': 'searhei', 'name': 'code', 'pid': 6784}\n",
      "{'username': 'searhei', 'name': 'code', 'pid': 6814}\n",
      "{'username': 'searhei', 'name': 'code', 'pid': 6857}\n",
      "{'username': 'searhei', 'name': 'code', 'pid': 6891}\n",
      "{'username': 'root', 'name': 'kworker/0:0-events', 'pid': 7083}\n",
      "{'username': 'searhei', 'name': 'code', 'pid': 7181}\n",
      "{'username': 'root', 'name': 'kworker/3:3-events', 'pid': 7484}\n",
      "{'username': 'searhei', 'name': 'firefox', 'pid': 8271}\n",
      "{'username': 'searhei', 'name': 'Socket Process', 'pid': 8441}\n",
      "{'username': 'searhei', 'name': 'Privileged Cont', 'pid': 8459}\n",
      "{'username': 'searhei', 'name': 'Isolated Web Co', 'pid': 8492}\n",
      "{'username': 'searhei', 'name': 'Isolated Web Co', 'pid': 8496}\n",
      "{'username': 'searhei', 'name': 'Isolated Web Co', 'pid': 8500}\n",
      "{'username': 'searhei', 'name': 'snap', 'pid': 8534}\n",
      "{'username': 'searhei', 'name': 'WebExtensions', 'pid': 8709}\n",
      "{'username': 'searhei', 'name': 'Utility Process', 'pid': 8842}\n",
      "{'username': 'searhei', 'name': 'Isolated Web Co', 'pid': 8855}\n",
      "{'username': 'searhei', 'name': 'Isolated Web Co', 'pid': 8968}\n",
      "{'username': 'searhei', 'name': 'Isolated Web Co', 'pid': 9024}\n",
      "{'username': 'root', 'name': 'kworker/1:0-events', 'pid': 9028}\n",
      "{'username': 'searhei', 'name': 'RDD Process', 'pid': 9042}\n",
      "{'username': 'searhei', 'name': 'speech-dispatcher', 'pid': 9142}\n",
      "{'username': 'searhei', 'name': 'sd_espeak-ng-mb', 'pid': 9154}\n",
      "{'username': 'searhei', 'name': 'sd_espeak-ng', 'pid': 9158}\n",
      "{'username': 'searhei', 'name': 'sd_dummy', 'pid': 9163}\n",
      "{'username': 'root', 'name': 'kworker/u16:0-ext4-rsv-conversion', 'pid': 9317}\n",
      "{'username': 'searhei', 'name': 'code', 'pid': 9368}\n",
      "{'username': 'searhei', 'name': 'code', 'pid': 9369}\n",
      "{'username': 'searhei', 'name': 'bash', 'pid': 9401}\n",
      "{'username': 'searhei', 'name': 'code', 'pid': 9464}\n",
      "{'username': 'searhei', 'name': 'bash', 'pid': 9473}\n",
      "{'username': 'root', 'name': 'kworker/2:2-events', 'pid': 9560}\n",
      "{'username': 'searhei', 'name': 'code', 'pid': 9607}\n",
      "{'username': 'searhei', 'name': 'python', 'pid': 9621}\n",
      "{'username': 'root', 'name': 'kworker/3:0-i915-unordered', 'pid': 9648}\n",
      "{'username': 'root', 'name': 'kworker/1:3-events', 'pid': 9649}\n",
      "{'username': 'root', 'name': 'kworker/0:2-events', 'pid': 9686}\n",
      "{'username': 'searhei', 'name': 'python', 'pid': 9690}\n",
      "{'username': 'searhei', 'name': 'Isolated Web Co', 'pid': 9746}\n",
      "{'username': 'searhei', 'name': 'Isolated Web Co', 'pid': 9749}\n",
      "{'username': 'searhei', 'name': 'Isolated Web Co', 'pid': 9839}\n",
      "{'username': 'searhei', 'name': 'Web Content', 'pid': 9883}\n",
      "{'username': 'root', 'name': 'kworker/0:3-events', 'pid': 9902}\n",
      "{'username': 'root', 'name': 'kworker/1:1-events', 'pid': 10002}\n",
      "{'username': 'searhei', 'name': 'Web Content', 'pid': 10008}\n",
      "{'username': 'searhei', 'name': 'Web Content', 'pid': 10011}\n",
      "{'username': 'searhei', 'name': 'Web Content', 'pid': 10048}\n"
     ]
    }
   ],
   "source": [
    "for proc in psutil.process_iter(['pid', 'name', 'username']):\n",
    "    print(proc.info)"
   ]
  },
  {
   "cell_type": "code",
   "execution_count": 21,
   "metadata": {},
   "outputs": [
    {
     "data": {
      "text/plain": [
       "{1: {'username': 'root', 'name': 'systemd'},\n",
       " 2: {'username': 'root', 'name': 'kthreadd'},\n",
       " 3: {'username': 'root', 'name': 'rcu_gp'},\n",
       " 4: {'username': 'root', 'name': 'rcu_par_gp'},\n",
       " 5: {'username': 'root', 'name': 'slub_flushwq'},\n",
       " 6: {'username': 'root', 'name': 'netns'},\n",
       " 8: {'username': 'root', 'name': 'kworker/0:0H-events_highpri'},\n",
       " 11: {'username': 'root', 'name': 'mm_percpu_wq'},\n",
       " 12: {'username': 'root', 'name': 'rcu_tasks_kthread'},\n",
       " 13: {'username': 'root', 'name': 'rcu_tasks_rude_kthread'},\n",
       " 14: {'username': 'root', 'name': 'rcu_tasks_trace_kthread'},\n",
       " 15: {'username': 'root', 'name': 'ksoftirqd/0'},\n",
       " 16: {'username': 'root', 'name': 'rcu_preempt'},\n",
       " 17: {'username': 'root', 'name': 'migration/0'},\n",
       " 18: {'username': 'root', 'name': 'idle_inject/0'},\n",
       " 19: {'username': 'root', 'name': 'cpuhp/0'},\n",
       " 20: {'username': 'root', 'name': 'cpuhp/2'},\n",
       " 21: {'username': 'root', 'name': 'idle_inject/2'},\n",
       " 22: {'username': 'root', 'name': 'migration/2'},\n",
       " 23: {'username': 'root', 'name': 'ksoftirqd/2'},\n",
       " 25: {'username': 'root', 'name': 'kworker/2:0H-events_highpri'},\n",
       " 26: {'username': 'root', 'name': 'cpuhp/1'},\n",
       " 27: {'username': 'root', 'name': 'idle_inject/1'},\n",
       " 28: {'username': 'root', 'name': 'migration/1'},\n",
       " 29: {'username': 'root', 'name': 'ksoftirqd/1'},\n",
       " 31: {'username': 'root', 'name': 'kworker/1:0H-events_highpri'},\n",
       " 32: {'username': 'root', 'name': 'cpuhp/3'},\n",
       " 33: {'username': 'root', 'name': 'idle_inject/3'},\n",
       " 34: {'username': 'root', 'name': 'migration/3'},\n",
       " 35: {'username': 'root', 'name': 'ksoftirqd/3'},\n",
       " 38: {'username': 'root', 'name': 'kdevtmpfs'},\n",
       " 39: {'username': 'root', 'name': 'inet_frag_wq'},\n",
       " 41: {'username': 'root', 'name': 'kauditd'},\n",
       " 42: {'username': 'root', 'name': 'khungtaskd'},\n",
       " 43: {'username': 'root', 'name': 'oom_reaper'},\n",
       " 45: {'username': 'root', 'name': 'writeback'},\n",
       " 46: {'username': 'root', 'name': 'kcompactd0'},\n",
       " 47: {'username': 'root', 'name': 'ksmd'},\n",
       " 48: {'username': 'root', 'name': 'khugepaged'},\n",
       " 49: {'username': 'root', 'name': 'kintegrityd'},\n",
       " 50: {'username': 'root', 'name': 'kblockd'},\n",
       " 51: {'username': 'root', 'name': 'blkcg_punt_bio'},\n",
       " 54: {'username': 'root', 'name': 'tpm_dev_wq'},\n",
       " 55: {'username': 'root', 'name': 'ata_sff'},\n",
       " 56: {'username': 'root', 'name': 'md'},\n",
       " 57: {'username': 'root', 'name': 'md_bitmap'},\n",
       " 58: {'username': 'root', 'name': 'edac-poller'},\n",
       " 59: {'username': 'root', 'name': 'devfreq_wq'},\n",
       " 60: {'username': 'root', 'name': 'watchdogd'},\n",
       " 61: {'username': 'root', 'name': 'kworker/2:1-events'},\n",
       " 62: {'username': 'root', 'name': 'kworker/2:1H-events_highpri'},\n",
       " 63: {'username': 'root', 'name': 'kswapd0'},\n",
       " 64: {'username': 'root', 'name': 'ecryptfs-kthread'},\n",
       " 65: {'username': 'root', 'name': 'kthrotld'},\n",
       " 66: {'username': 'root', 'name': 'acpi_thermal_pm'},\n",
       " 71: {'username': 'root', 'name': 'mld'},\n",
       " 72: {'username': 'root', 'name': 'ipv6_addrconf'},\n",
       " 81: {'username': 'root', 'name': 'kstrp'},\n",
       " 83: {'username': 'root', 'name': 'kworker/u17:0-i915_flip'},\n",
       " 87: {'username': 'root', 'name': 'charger_manager'},\n",
       " 109: {'username': 'root', 'name': 'kworker/1:1H-kblockd'},\n",
       " 116: {'username': 'root', 'name': 'kworker/0:1H-kblockd'},\n",
       " 126: {'username': 'root', 'name': 'kworker/3:1H-events_highpri'},\n",
       " 139: {'username': 'root', 'name': 'sdhci'},\n",
       " 140: {'username': 'root', 'name': 'irq/17-mmc0'},\n",
       " 157: {'username': 'root', 'name': 'scsi_eh_0'},\n",
       " 158: {'username': 'root', 'name': 'scsi_tmf_0'},\n",
       " 159: {'username': 'root', 'name': 'scsi_eh_1'},\n",
       " 160: {'username': 'root', 'name': 'scsi_tmf_1'},\n",
       " 161: {'username': 'root', 'name': 'scsi_eh_2'},\n",
       " 162: {'username': 'root', 'name': 'scsi_tmf_2'},\n",
       " 163: {'username': 'root', 'name': 'scsi_eh_3'},\n",
       " 164: {'username': 'root', 'name': 'scsi_tmf_3'},\n",
       " 165: {'username': 'root', 'name': 'scsi_eh_4'},\n",
       " 166: {'username': 'root', 'name': 'scsi_tmf_4'},\n",
       " 167: {'username': 'root', 'name': 'scsi_eh_5'},\n",
       " 168: {'username': 'root', 'name': 'scsi_tmf_5'},\n",
       " 192: {'username': 'root', 'name': 'jbd2/sda9-8'},\n",
       " 193: {'username': 'root', 'name': 'ext4-rsv-conver'},\n",
       " 234: {'username': 'root', 'name': 'systemd-journald'},\n",
       " 298: {'username': 'root', 'name': 'systemd-udevd'},\n",
       " 335: {'username': 'root', 'name': 'irq/27-mei_me'},\n",
       " 357: {'username': 'root', 'name': 'cfg80211'},\n",
       " 400: {'username': 'root', 'name': 'kworker/3:2H-kblockd'},\n",
       " 407: {'username': 'root', 'name': 'nvkm-disp'},\n",
       " 409: {'username': 'root', 'name': 'wl_event_handler'},\n",
       " 410: {'username': 'root', 'name': 'ttm'},\n",
       " 411: {'username': 'root', 'name': 'card0-crtc0'},\n",
       " 412: {'username': 'root', 'name': 'card0-crtc1'},\n",
       " 413: {'username': 'root', 'name': 'ttm'},\n",
       " 414: {'username': 'root', 'name': 'card1-crtc0'},\n",
       " 415: {'username': 'root', 'name': 'card1-crtc1'},\n",
       " 416: {'username': 'root', 'name': 'card1-crtc2'},\n",
       " 442: {'username': 'root', 'name': 'mount.ntfs'},\n",
       " 576: {'username': 'root', 'name': 'cryptd'},\n",
       " 626: {'username': 'root', 'name': 'kworker/u17:2-i915_flip'},\n",
       " 691: {'username': 'root', 'name': 'jbd2/sda6-8'},\n",
       " 692: {'username': 'root', 'name': 'ext4-rsv-conver'},\n",
       " 699: {'username': 'root', 'name': 'jbd2/sda7-8'},\n",
       " 701: {'username': 'root', 'name': 'ext4-rsv-conver'},\n",
       " 704: {'username': 'root', 'name': 'mount.ntfs'},\n",
       " 708: {'username': 'root', 'name': 'mount.ntfs'},\n",
       " 753: {'username': 'systemd-oom', 'name': 'systemd-oomd'},\n",
       " 756: {'username': 'systemd-resolve', 'name': 'systemd-resolved'},\n",
       " 759: {'username': 'systemd-timesync', 'name': 'systemd-timesyncd'},\n",
       " 843: {'username': 'root', 'name': 'accounts-daemon'},\n",
       " 844: {'username': 'root', 'name': 'acpid'},\n",
       " 849: {'username': 'avahi', 'name': 'avahi-daemon'},\n",
       " 851: {'username': 'root', 'name': 'bluetoothd'},\n",
       " 854: {'username': 'root', 'name': 'cron'},\n",
       " 855: {'username': 'messagebus', 'name': 'dbus-daemon'},\n",
       " 856: {'username': 'root', 'name': 'NetworkManager'},\n",
       " 862: {'username': 'root', 'name': 'irqbalance'},\n",
       " 863: {'username': 'root', 'name': 'networkd-dispat'},\n",
       " 864: {'username': 'root', 'name': 'polkitd'},\n",
       " 866: {'username': 'root', 'name': 'power-profiles-daemon'},\n",
       " 868: {'username': 'syslog', 'name': 'rsyslogd'},\n",
       " 870: {'username': 'root', 'name': 'snapd'},\n",
       " 872: {'username': 'root', 'name': 'switcheroo-control'},\n",
       " 876: {'username': 'root', 'name': 'systemd-logind'},\n",
       " 878: {'username': 'root', 'name': 'thermald'},\n",
       " 880: {'username': 'root', 'name': 'udisksd'},\n",
       " 881: {'username': 'root', 'name': 'wpa_supplicant'},\n",
       " 890: {'username': 'avahi', 'name': 'avahi-daemon'},\n",
       " 920: {'username': 'root', 'name': 'and'},\n",
       " 932: {'username': 'root', 'name': 'ModemManager'},\n",
       " 956: {'username': 'root', 'name': 'canonical-livepatchd'},\n",
       " 1039: {'username': 'root', 'name': 'cupsd'},\n",
       " 1094: {'username': 'root', 'name': 'unattended-upgr'},\n",
       " 1664: {'username': 'root', 'name': 'gdm3'},\n",
       " 1669: {'username': 'root', 'name': 'gdm-session-worker'},\n",
       " 1674: {'username': 'searhei', 'name': 'systemd'},\n",
       " 1675: {'username': 'searhei', 'name': '(sd-pam)'},\n",
       " 1682: {'username': 'searhei', 'name': 'pipewire'},\n",
       " 1683: {'username': 'searhei', 'name': 'pipewire-media-session'},\n",
       " 1684: {'username': 'searhei', 'name': 'pulseaudio'},\n",
       " 1687: {'username': 'searhei', 'name': 'ubuntu-report'},\n",
       " 1705: {'username': 'searhei', 'name': 'gnome-keyring-daemon'},\n",
       " 1708: {'username': 'rtkit', 'name': 'rtkit-daemon'},\n",
       " 1712: {'username': 'searhei', 'name': 'gdm-wayland-session'},\n",
       " 1722: {'username': 'searhei', 'name': 'dbus-daemon'},\n",
       " 1729: {'username': 'searhei', 'name': 'gnome-session-binary'},\n",
       " 1730: {'username': 'searhei', 'name': 'xdg-document-portal'},\n",
       " 1746: {'username': 'searhei', 'name': 'gvfsd'},\n",
       " 1756: {'username': 'searhei', 'name': 'xdg-permission-store'},\n",
       " 1770: {'username': 'searhei', 'name': 'gvfsd-fuse'},\n",
       " 1773: {'username': 'searhei', 'name': 'fusermount3'},\n",
       " 1809: {'username': 'searhei', 'name': 'gnome-session-ctl'},\n",
       " 1821: {'username': 'searhei', 'name': 'gnome-session-binary'},\n",
       " 1845: {'username': 'searhei', 'name': 'at-spi-bus-launcher'},\n",
       " 1851: {'username': 'searhei', 'name': 'dbus-daemon'},\n",
       " 1855: {'username': 'searhei', 'name': 'gnome-shell'},\n",
       " 1919: {'username': 'root', 'name': 'krfcommd'},\n",
       " 1930: {'username': 'searhei', 'name': 'gnome-shell-calendar-server'},\n",
       " 1936: {'username': 'searhei', 'name': 'evolution-source-registry'},\n",
       " 1941: {'username': 'root', 'name': 'upowerd'},\n",
       " 1944: {'username': 'searhei', 'name': 'goa-daemon'},\n",
       " 1946: {'username': 'geoclue', 'name': 'geoclue'},\n",
       " 1951: {'username': 'searhei', 'name': 'dconf-service'},\n",
       " 1952: {'username': 'searhei', 'name': 'evolution-calendar-factory'},\n",
       " 1958: {'username': 'searhei', 'name': 'gvfs-udisks2-volume-monitor'},\n",
       " 1968: {'username': 'searhei', 'name': 'goa-identity-service'},\n",
       " 1985: {'username': 'searhei', 'name': 'evolution-addressbook-factory'},\n",
       " 1989: {'username': 'searhei', 'name': 'gvfs-afc-volume-monitor'},\n",
       " 1994: {'username': 'searhei', 'name': 'gvfs-mtp-volume-monitor'},\n",
       " 2003: {'username': 'searhei', 'name': 'gvfs-gphoto2-volume-monitor'},\n",
       " 2009: {'username': 'searhei', 'name': 'gvfs-goa-volume-monitor'},\n",
       " 2016: {'username': 'root', 'name': 'packagekitd'},\n",
       " 2023: {'username': 'searhei', 'name': 'gvfsd-trash'},\n",
       " 2036: {'username': 'searhei', 'name': 'gjs'},\n",
       " 2038: {'username': 'searhei', 'name': 'at-spi2-registryd'},\n",
       " 2049: {'username': 'searhei', 'name': 'sh'},\n",
       " 2050: {'username': 'searhei', 'name': 'gsd-a11y-settings'},\n",
       " 2055: {'username': 'searhei', 'name': 'ibus-daemon'},\n",
       " 2057: {'username': 'searhei', 'name': 'gsd-color'},\n",
       " 2059: {'username': 'searhei', 'name': 'gsd-datetime'},\n",
       " 2060: {'username': 'searhei', 'name': 'gsd-housekeeping'},\n",
       " 2063: {'username': 'searhei', 'name': 'gsd-keyboard'},\n",
       " 2064: {'username': 'searhei', 'name': 'gsd-media-keys'},\n",
       " 2065: {'username': 'searhei', 'name': 'gsd-power'},\n",
       " 2066: {'username': 'searhei', 'name': 'gsd-print-notifications'},\n",
       " 2067: {'username': 'searhei', 'name': 'gsd-rfkill'},\n",
       " 2068: {'username': 'searhei', 'name': 'gsd-screensaver-proxy'},\n",
       " 2073: {'username': 'searhei', 'name': 'gsd-sharing'},\n",
       " 2074: {'username': 'searhei', 'name': 'gsd-smartcard'},\n",
       " 2077: {'username': 'searhei', 'name': 'gsd-sound'},\n",
       " 2082: {'username': 'searhei', 'name': 'gsd-wacom'},\n",
       " 2128: {'username': 'searhei', 'name': 'ibus-dconf'},\n",
       " 2130: {'username': 'searhei', 'name': 'evolution-alarm-notify'},\n",
       " 2137: {'username': 'searhei', 'name': 'ibus-extension-gtk3'},\n",
       " 2141: {'username': 'searhei', 'name': 'ibus-portal'},\n",
       " 2150: {'username': 'searhei', 'name': 'gsd-disk-utility-notify'},\n",
       " 2170: {'username': 'searhei', 'name': 'snapd-desktop-integration'},\n",
       " 2212: {'username': 'searhei', 'name': 'snap-store'},\n",
       " 2277: {'username': 'searhei', 'name': 'gsd-printer'},\n",
       " 2289: {'username': 'searhei', 'name': 'ibus-engine-simple'},\n",
       " 2317: {'username': 'searhei', 'name': 'snapd-desktop-integration'},\n",
       " 2321: {'username': 'searhei', 'name': 'xdg-desktop-portal'},\n",
       " 2332: {'username': 'searhei', 'name': 'xdg-desktop-portal-gnome'},\n",
       " 2432: {'username': 'colord', 'name': 'colord'},\n",
       " 2433: {'username': 'searhei', 'name': 'tracker-miner-fs-3'},\n",
       " 2478: {'username': 'searhei', 'name': 'gjs'},\n",
       " 2505: {'username': 'searhei', 'name': 'xdg-desktop-portal-gtk'},\n",
       " 2597: {'username': 'searhei', 'name': 'gvfsd-metadata'},\n",
       " 3632: {'username': 'root', 'name': 'cups-browsed'},\n",
       " 3634: {'username': 'root', 'name': 'nmbd'},\n",
       " 3636: {'username': 'kernoops', 'name': 'kerneloops'},\n",
       " 3638: {'username': 'kernoops', 'name': 'kerneloops'},\n",
       " 3646: {'username': 'root', 'name': 'smbd'},\n",
       " 3648: {'username': 'root', 'name': 'smbd-notifyd'},\n",
       " 3649: {'username': 'root', 'name': 'cleanupd'},\n",
       " 3650: {'username': 'root', 'name': 'samba-bgqd'},\n",
       " 3659: {'username': 'searhei', 'name': 'update-notifier'},\n",
       " 3993: {'username': 'searhei', 'name': 'Xwayland'},\n",
       " 4022: {'username': 'searhei', 'name': 'gsd-xsettings'},\n",
       " 4075: {'username': 'searhei', 'name': 'ibus-x11'},\n",
       " 4606: {'username': 'searhei', 'name': 'deja-dup-monitor'},\n",
       " 4644: {'username': 'searhei', 'name': 'ssh-agent'},\n",
       " 4775: {'username': 'searhei', 'name': 'deja-dup'},\n",
       " 5184: {'username': 'root', 'name': 'tls-strp'},\n",
       " 6013: {'username': 'searhei', 'name': 'gjs'},\n",
       " 6434: {'username': 'root', 'name': 'kworker/u16:3-ext4-rsv-conversion'},\n",
       " 6530: {'username': 'root', 'name': 'kworker/u16:2-flush-8:0'},\n",
       " 6746: {'username': 'searhei', 'name': 'code'},\n",
       " 6748: {'username': 'searhei', 'name': 'code'},\n",
       " 6749: {'username': 'searhei', 'name': 'code'},\n",
       " 6762: {'username': 'searhei', 'name': 'chrome_crashpad_handler'},\n",
       " 6784: {'username': 'searhei', 'name': 'code'},\n",
       " 6814: {'username': 'searhei', 'name': 'code'},\n",
       " 6857: {'username': 'searhei', 'name': 'code'},\n",
       " 6891: {'username': 'searhei', 'name': 'code'},\n",
       " 7083: {'username': 'root', 'name': 'kworker/0:0-inet_frag_wq'},\n",
       " 7181: {'username': 'searhei', 'name': 'code'},\n",
       " 7484: {'username': 'root', 'name': 'kworker/3:3-events'},\n",
       " 8271: {'username': 'searhei', 'name': 'firefox'},\n",
       " 8441: {'username': 'searhei', 'name': 'Socket Process'},\n",
       " 8459: {'username': 'searhei', 'name': 'Privileged Cont'},\n",
       " 8492: {'username': 'searhei', 'name': 'Isolated Web Co'},\n",
       " 8496: {'username': 'searhei', 'name': 'Isolated Web Co'},\n",
       " 8500: {'username': 'searhei', 'name': 'Isolated Web Co'},\n",
       " 8534: {'username': 'searhei', 'name': 'snap'},\n",
       " 8709: {'username': 'searhei', 'name': 'WebExtensions'},\n",
       " 8842: {'username': 'searhei', 'name': 'Utility Process'},\n",
       " 8855: {'username': 'searhei', 'name': 'Isolated Web Co'},\n",
       " 8968: {'username': 'searhei', 'name': 'Isolated Web Co'},\n",
       " 9024: {'username': 'searhei', 'name': 'Isolated Web Co'},\n",
       " 9028: {'username': 'root', 'name': 'kworker/1:0-events'},\n",
       " 9042: {'username': 'searhei', 'name': 'RDD Process'},\n",
       " 9142: {'username': 'searhei', 'name': 'speech-dispatcher'},\n",
       " 9154: {'username': 'searhei', 'name': 'sd_espeak-ng-mb'},\n",
       " 9158: {'username': 'searhei', 'name': 'sd_espeak-ng'},\n",
       " 9163: {'username': 'searhei', 'name': 'sd_dummy'},\n",
       " 9317: {'username': 'root', 'name': 'kworker/u16:0-flush-8:0'},\n",
       " 9368: {'username': 'searhei', 'name': 'code'},\n",
       " 9369: {'username': 'searhei', 'name': 'code'},\n",
       " 9401: {'username': 'searhei', 'name': 'bash'},\n",
       " 9464: {'username': 'searhei', 'name': 'code'},\n",
       " 9473: {'username': 'searhei', 'name': 'bash'},\n",
       " 9560: {'username': 'root', 'name': 'kworker/2:2-events'},\n",
       " 9607: {'username': 'searhei', 'name': 'code'},\n",
       " 9621: {'username': 'searhei', 'name': 'python'},\n",
       " 9648: {'username': 'root', 'name': 'kworker/3:0-inet_frag_wq'},\n",
       " 9649: {'username': 'root', 'name': 'kworker/1:3-events'},\n",
       " 9690: {'username': 'searhei', 'name': 'python'},\n",
       " 9746: {'username': 'searhei', 'name': 'Isolated Web Co'},\n",
       " 9749: {'username': 'searhei', 'name': 'Isolated Web Co'},\n",
       " 9902: {'username': 'root', 'name': 'kworker/0:3-events'},\n",
       " 10002: {'username': 'root', 'name': 'kworker/1:1-events'},\n",
       " 10008: {'username': 'searhei', 'name': 'Web Content'},\n",
       " 10011: {'username': 'searhei', 'name': 'Web Content'},\n",
       " 10048: {'username': 'searhei', 'name': 'Web Content'},\n",
       " 10071: {'username': 'root', 'name': 'kworker/3:1-i915-unordered'}}"
      ]
     },
     "execution_count": 21,
     "metadata": {},
     "output_type": "execute_result"
    }
   ],
   "source": [
    "procs = {p.pid: p.info for p in psutil.process_iter(['name', 'username'])}\n",
    "procs"
   ]
  },
  {
   "cell_type": "code",
   "execution_count": 43,
   "metadata": {},
   "outputs": [
    {
     "data": {
      "text/plain": [
       "1707416894.39"
      ]
     },
     "execution_count": 43,
     "metadata": {},
     "output_type": "execute_result"
    }
   ],
   "source": [
    "p = psutil.Process()\n",
    "\n",
    "p.create_time()"
   ]
  },
  {
   "cell_type": "code",
   "execution_count": 52,
   "metadata": {},
   "outputs": [
    {
     "data": {
      "text/plain": [
       "{'username': 'searhei', 'name': 'python', 'pid': 9690}"
      ]
     },
     "execution_count": 52,
     "metadata": {},
     "output_type": "execute_result"
    }
   ],
   "source": [
    "p = psutil.Process()\n",
    "\n",
    "p.as_dict(attrs=['pid', 'name', 'username'])"
   ]
  },
  {
   "cell_type": "code",
   "execution_count": 50,
   "metadata": {},
   "outputs": [
    {
     "data": {
      "text/plain": [
       "[suser(name='searhei', terminal='tty2', host='localhost', started=1707406147.0, pid=1712)]"
      ]
     },
     "execution_count": 50,
     "metadata": {},
     "output_type": "execute_result"
    }
   ],
   "source": [
    "psutil.users()"
   ]
  }
 ],
 "metadata": {
  "kernelspec": {
   "display_name": ".venv",
   "language": "python",
   "name": "python3"
  },
  "language_info": {
   "codemirror_mode": {
    "name": "ipython",
    "version": 3
   },
   "file_extension": ".py",
   "mimetype": "text/x-python",
   "name": "python",
   "nbconvert_exporter": "python",
   "pygments_lexer": "ipython3",
   "version": "3.10.12"
  }
 },
 "nbformat": 4,
 "nbformat_minor": 2
}
